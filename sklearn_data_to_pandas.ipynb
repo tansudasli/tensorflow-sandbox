{
 "cells": [
  {
   "cell_type": "markdown",
   "source": [
    "# sklearn - sklearn dataset to pandas\n",
    "\n",
    "sk datasets are split into *data*, *target*, *target_names*, *feature_names* ...\n",
    "\n",
    "- load sample sklearn dataset\n",
    "- convert to pandas\n"
   ],
   "metadata": {
    "collapsed": false
   }
  },
  {
   "cell_type": "code",
   "execution_count": 94,
   "metadata": {
    "collapsed": true,
    "ExecuteTime": {
     "end_time": "2023-07-14T14:52:42.860125Z",
     "start_time": "2023-07-14T14:52:42.852187Z"
    }
   },
   "outputs": [],
   "source": [
    "import sklearn as sk\n",
    "import pandas as pd\n"
   ]
  },
  {
   "cell_type": "code",
   "execution_count": 95,
   "outputs": [
    {
     "name": "stdout",
     "output_type": "stream",
     "text": [
      "data <class 'pandas.core.frame.DataFrame'> \n",
      "target <class 'pandas.core.series.Series'>\n"
     ]
    }
   ],
   "source": [
    "# load\n",
    "\n",
    "# iris = sk.datasets.load_iris()\n",
    "# iris = sk.datasets.load_iris().get(\"data\")               # returns a bunch object\n",
    "# data, target = sk.datasets.load_iris(return_X_y=True)    # returns a numpy array\n",
    "# data  = sk.datasets.load_iris(return_X_y=True, as_frame=True) #returns as pandas dataframe, lost target_names\n",
    "\n",
    "data, target = sk.datasets.load_iris(return_X_y=True, as_frame=True)\n",
    "\n",
    "print(\"data\", type(data),\n",
    "      \"\\ntarget\", type(target))\n"
   ],
   "metadata": {
    "collapsed": false,
    "ExecuteTime": {
     "end_time": "2023-07-14T14:52:43.111327Z",
     "start_time": "2023-07-14T14:52:43.093470Z"
    }
   }
  },
  {
   "cell_type": "code",
   "execution_count": 96,
   "outputs": [
    {
     "name": "stdout",
     "output_type": "stream",
     "text": [
      "   sepal length (cm)  sepal width (cm)  petal length (cm)  petal width (cm)\n",
      "0                5.1               3.5                1.4               0.2\n",
      "1                4.9               3.0                1.4               0.2\n",
      "2                4.7               3.2                1.3               0.2\n",
      "3                4.6               3.1                1.5               0.2\n",
      "4                5.0               3.6                1.4               0.2\n"
     ]
    }
   ],
   "source": [
    "print(data.head())\n"
   ],
   "metadata": {
    "collapsed": false,
    "ExecuteTime": {
     "end_time": "2023-07-14T14:52:43.461561Z",
     "start_time": "2023-07-14T14:52:43.453613Z"
    }
   }
  },
  {
   "cell_type": "code",
   "execution_count": 98,
   "outputs": [
    {
     "name": "stdout",
     "output_type": "stream",
     "text": [
      "                   145  146  147  148  149\n",
      "sepal length (cm)  6.7  6.3  6.5  6.2  5.9\n",
      "sepal width (cm)   3.0  2.5  3.0  3.4  3.0\n",
      "petal length (cm)  5.2  5.0  5.2  5.4  5.1\n",
      "petal width (cm)   2.3  1.9  2.0  2.3  1.8\n",
      "type               2.0  2.0  2.0  2.0  2.0\n"
     ]
    }
   ],
   "source": [
    "# combine data & target as one dataframe\n",
    "\n",
    "dfIris = pd.DataFrame(data=data)\n",
    "\n",
    "dfIris[\"type\"] = target\n",
    "\n",
    "print(dfIris.tail().transpose())"
   ],
   "metadata": {
    "collapsed": false,
    "ExecuteTime": {
     "end_time": "2023-07-14T14:52:59.257080Z",
     "start_time": "2023-07-14T14:52:59.241877Z"
    }
   }
  },
  {
   "cell_type": "code",
   "execution_count": null,
   "outputs": [],
   "source": [],
   "metadata": {
    "collapsed": false
   }
  }
 ],
 "metadata": {
  "kernelspec": {
   "display_name": "Python 3",
   "language": "python",
   "name": "python3"
  },
  "language_info": {
   "codemirror_mode": {
    "name": "ipython",
    "version": 2
   },
   "file_extension": ".py",
   "mimetype": "text/x-python",
   "name": "python",
   "nbconvert_exporter": "python",
   "pygments_lexer": "ipython2",
   "version": "2.7.6"
  }
 },
 "nbformat": 4,
 "nbformat_minor": 0
}
