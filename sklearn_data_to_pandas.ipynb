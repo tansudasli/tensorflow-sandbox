{
 "cells": [
  {
   "cell_type": "markdown",
   "source": [
    "# sklearn - basics\n"
   ],
   "metadata": {
    "collapsed": false
   }
  },
  {
   "cell_type": "code",
   "execution_count": 3,
   "metadata": {
    "collapsed": true,
    "ExecuteTime": {
     "end_time": "2023-07-14T14:15:06.483161Z",
     "start_time": "2023-07-14T14:15:05.897070Z"
    }
   },
   "outputs": [],
   "source": [
    "import sklearn\n",
    "from sklearn.datasets import load_iris\n",
    "import pandas as pd\n"
   ]
  },
  {
   "cell_type": "code",
   "execution_count": 20,
   "outputs": [
    {
     "name": "stdout",
     "output_type": "stream",
     "text": [
      "iris <class 'sklearn.utils._bunch.Bunch'> \n",
      "iris.data <class 'numpy.ndarray'> \n",
      "iris.feature_names <class 'list'>\n"
     ]
    }
   ],
   "source": [
    "# sklearn dataset to pandas\n",
    "iris = load_iris()\n",
    "\n",
    "print(\"iris\", type(iris),\n",
    "      \"\\niris.data\",type(iris.data),\n",
    "      \"\\niris.feature_names\", type(iris.feature_names))"
   ],
   "metadata": {
    "collapsed": false,
    "ExecuteTime": {
     "end_time": "2023-07-14T14:19:57.630382Z",
     "start_time": "2023-07-14T14:19:57.615313Z"
    }
   }
  },
  {
   "cell_type": "code",
   "execution_count": 22,
   "outputs": [
    {
     "name": "stdout",
     "output_type": "stream",
     "text": [
      "   sepal length (cm)  sepal width (cm)  petal length (cm)  petal width (cm)\n",
      "0                5.1               3.5                1.4               0.2\n",
      "1                4.9               3.0                1.4               0.2\n",
      "2                4.7               3.2                1.3               0.2\n",
      "3                4.6               3.1                1.5               0.2\n",
      "4                5.0               3.6                1.4               0.2\n"
     ]
    }
   ],
   "source": [
    "dfIris = pd.DataFrame(data= iris.data,\n",
    "                      columns= iris.feature_names)\n",
    "\n",
    "print(dfIris.head())"
   ],
   "metadata": {
    "collapsed": false,
    "ExecuteTime": {
     "end_time": "2023-07-14T14:20:30.505329Z",
     "start_time": "2023-07-14T14:20:30.496986Z"
    }
   }
  },
  {
   "cell_type": "code",
   "execution_count": null,
   "outputs": [],
   "source": [],
   "metadata": {
    "collapsed": false
   }
  }
 ],
 "metadata": {
  "kernelspec": {
   "display_name": "Python 3",
   "language": "python",
   "name": "python3"
  },
  "language_info": {
   "codemirror_mode": {
    "name": "ipython",
    "version": 2
   },
   "file_extension": ".py",
   "mimetype": "text/x-python",
   "name": "python",
   "nbconvert_exporter": "python",
   "pygments_lexer": "ipython2",
   "version": "2.7.6"
  }
 },
 "nbformat": 4,
 "nbformat_minor": 0
}
