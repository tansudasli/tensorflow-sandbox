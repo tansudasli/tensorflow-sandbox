{
 "cells": [
  {
   "cell_type": "markdown",
   "source": [
    "# Linear Regression\n",
    "\n",
    "- Generate dummy dataset as [x,y]\n",
    "- Sampling: split as [x_train, y_train] & [x_test, y_test]\n",
    "- Model by **tensorflow** + *keras*\n",
    "- Performance check [optimization: SGD, loss: MSE]\n",
    "- Prediction\n"
   ],
   "metadata": {
    "collapsed": false
   }
  },
  {
   "cell_type": "code",
   "execution_count": 5,
   "outputs": [],
   "source": [
    "import numpy as np\n",
    "import tensorflow as tf\n",
    "import matplotlib.pyplot as plt"
   ],
   "metadata": {
    "collapsed": false,
    "ExecuteTime": {
     "end_time": "2023-07-09T17:25:38.277887Z",
     "start_time": "2023-07-09T17:25:38.238507Z"
    }
   }
  },
  {
   "cell_type": "markdown",
   "source": [
    "## preparation - dataset"
   ],
   "metadata": {
    "collapsed": false
   }
  },
  {
   "cell_type": "code",
   "execution_count": 6,
   "outputs": [
    {
     "name": "stdout",
     "output_type": "stream",
     "text": [
      "x [0.         1.02040816 2.04081633 3.06122449 4.08163265]\n",
      "y [0.         1.02040816 2.04081633 3.06122449 4.08163265]\n"
     ]
    }
   ],
   "source": [
    "# generate 50 size dataset(x, y=h(x))\n",
    "# add noise to dataset(x, y)\n",
    "# graph dataset(x, y)\n",
    "\n",
    "x = np.linspace(0, 50, 50)   #0 to 50, 50 sample, float\n",
    "y = np.linspace(0, 50, 50)\n",
    "\n",
    "print('x', x[0:5])\n",
    "print('y', y[0:5])"
   ],
   "metadata": {
    "collapsed": false,
    "ExecuteTime": {
     "end_time": "2023-07-09T17:25:43.637909Z",
     "start_time": "2023-07-09T17:25:43.630387Z"
    }
   }
  },
  {
   "cell_type": "code",
   "execution_count": 7,
   "outputs": [
    {
     "name": "stdout",
     "output_type": "stream",
     "text": [
      "x [0.51182162 1.97087186 2.18497594 4.00987394 4.39346411]\n",
      "y [ 0.11821625  5.52504513 -1.51758755  7.54771896  2.19994717]\n",
      "shape (50,) (50,)\n"
     ]
    }
   ],
   "source": [
    "# add noise\n",
    "\n",
    "x += np.random.default_rng(1).random(50)\n",
    "y += np.random.default_rng(1).uniform(-5, 5, 50)\n",
    "\n",
    "print('x', x[0:5])\n",
    "print('y', y[0:5])\n",
    "\n",
    "print('shape', x.shape, y.shape)"
   ],
   "metadata": {
    "collapsed": false,
    "ExecuteTime": {
     "end_time": "2023-07-09T17:25:44.783504Z",
     "start_time": "2023-07-09T17:25:44.746440Z"
    }
   }
  },
  {
   "cell_type": "code",
   "execution_count": 8,
   "outputs": [
    {
     "data": {
      "text/plain": "<Figure size 300x300 with 1 Axes>",
      "image/png": "[encoded data removed]"
     },
     "metadata": {},
     "output_type": "display_data"
    }
   ],
   "source": [
    "plt.figure(figsize=(3,3))\n",
    "plt.scatter(x, y, label=\"dummy\")\n",
    "\n",
    "plt.title(\"dummy-dataset\")\n",
    "plt.legend()\n",
    "plt.show()"
   ],
   "metadata": {
    "collapsed": false,
    "ExecuteTime": {
     "end_time": "2023-07-09T17:26:03.998456Z",
     "start_time": "2023-07-09T17:26:03.687034Z"
    }
   }
  },
  {
   "cell_type": "markdown",
   "source": [
    "## model"
   ],
   "metadata": {
    "collapsed": false
   }
  },
  {
   "cell_type": "code",
   "execution_count": 9,
   "outputs": [
    {
     "data": {
      "text/plain": "<Figure size 300x300 with 1 Axes>",
      "image/png": "[encoded data removed]"
     },
     "metadata": {},
     "output_type": "display_data"
    }
   ],
   "source": [
    "# sampling\n",
    "# split data as train and test set\n",
    "\n",
    "x_train = x[0:40]\n",
    "y_train = y[0:40]\n",
    "\n",
    "x_test = x[40:]\n",
    "y_test = y[40:]\n",
    "\n",
    "plt.figure(figsize=(3,3))\n",
    "plt.title(\"training data\")\n",
    "plt.scatter(x_train, y_train)\n",
    "plt.show()"
   ],
   "metadata": {
    "collapsed": false,
    "ExecuteTime": {
     "end_time": "2023-07-09T17:26:19.139006Z",
     "start_time": "2023-07-09T17:26:18.910999Z"
    }
   }
  },
  {
   "cell_type": "code",
   "execution_count": 10,
   "outputs": [
    {
     "name": "stdout",
     "output_type": "stream",
     "text": [
      "(40, 1) (40,)\n"
     ]
    }
   ],
   "source": [
    "# reshape numpy arrays\n",
    "\n",
    "x_train = np.reshape(x_train, (-1,1))   # (40,) -> (40, 1)\n",
    "# y_train                               # (40,)\n",
    "\n",
    "print(np.shape(x_train), np.shape(y_train))"
   ],
   "metadata": {
    "collapsed": false,
    "ExecuteTime": {
     "end_time": "2023-07-09T17:26:20.447104Z",
     "start_time": "2023-07-09T17:26:20.426091Z"
    }
   }
  },
  {
   "cell_type": "code",
   "execution_count": 11,
   "outputs": [
    {
     "name": "stdout",
     "output_type": "stream",
     "text": [
      "Epoch 1/50\n"
     ]
    },
    {
     "name": "stderr",
     "output_type": "stream",
     "text": [
      "2023-07-09 20:26:49.398618: I tensorflow/core/platform/cpu_feature_guard.cc:193] This TensorFlow binary is optimized with oneAPI Deep Neural Network Library (oneDNN) to use the following CPU instructions in performance-critical operations:  SSE4.1 SSE4.2 AVX AVX2 FMA\n",
      "To enable them in other operations, rebuild TensorFlow with the appropriate compiler flags.\n"
     ]
    },
    {
     "name": "stdout",
     "output_type": "stream",
     "text": [
      "2/2 [==============================] - 0s 16ms/step - loss: 3494.6772\n",
      "Epoch 2/50\n",
      "2/2 [==============================] - 0s 5ms/step - loss: 2272.4067\n",
      "Epoch 3/50\n",
      "2/2 [==============================] - 0s 5ms/step - loss: 1448.7974\n",
      "Epoch 4/50\n",
      "2/2 [==============================] - 0s 6ms/step - loss: 950.7256\n",
      "Epoch 5/50\n",
      "2/2 [==============================] - 0s 5ms/step - loss: 628.7716\n",
      "Epoch 6/50\n",
      "2/2 [==============================] - 0s 7ms/step - loss: 405.1072\n",
      "Epoch 7/50\n",
      "2/2 [==============================] - 0s 6ms/step - loss: 247.7197\n",
      "Epoch 8/50\n",
      "2/2 [==============================] - 0s 6ms/step - loss: 151.4881\n",
      "Epoch 9/50\n",
      "2/2 [==============================] - 0s 6ms/step - loss: 98.9445\n",
      "Epoch 10/50\n",
      "2/2 [==============================] - 0s 7ms/step - loss: 63.7313\n",
      "Epoch 11/50\n",
      "2/2 [==============================] - 0s 6ms/step - loss: 43.8396\n",
      "Epoch 12/50\n",
      "2/2 [==============================] - 0s 7ms/step - loss: 30.0763\n",
      "Epoch 13/50\n",
      "2/2 [==============================] - 0s 6ms/step - loss: 21.1467\n",
      "Epoch 14/50\n",
      "2/2 [==============================] - 0s 6ms/step - loss: 15.6189\n",
      "Epoch 15/50\n",
      "2/2 [==============================] - 0s 7ms/step - loss: 12.2410\n",
      "Epoch 16/50\n",
      "2/2 [==============================] - 0s 7ms/step - loss: 9.5892\n",
      "Epoch 17/50\n",
      "2/2 [==============================] - 0s 5ms/step - loss: 8.0343\n",
      "Epoch 18/50\n",
      "2/2 [==============================] - 0s 6ms/step - loss: 7.5282\n",
      "Epoch 19/50\n",
      "2/2 [==============================] - 0s 5ms/step - loss: 7.0380\n",
      "Epoch 20/50\n",
      "2/2 [==============================] - 0s 7ms/step - loss: 6.7830\n",
      "Epoch 21/50\n",
      "2/2 [==============================] - 0s 6ms/step - loss: 6.7446\n",
      "Epoch 22/50\n",
      "2/2 [==============================] - 0s 6ms/step - loss: 6.6968\n",
      "Epoch 23/50\n",
      "2/2 [==============================] - 0s 6ms/step - loss: 6.6333\n",
      "Epoch 24/50\n",
      "2/2 [==============================] - 0s 7ms/step - loss: 6.6370\n",
      "Epoch 25/50\n",
      "2/2 [==============================] - 0s 6ms/step - loss: 6.6217\n",
      "Epoch 26/50\n",
      "2/2 [==============================] - 0s 5ms/step - loss: 6.6338\n",
      "Epoch 27/50\n",
      "2/2 [==============================] - 0s 6ms/step - loss: 6.6226\n",
      "Epoch 28/50\n",
      "2/2 [==============================] - 0s 6ms/step - loss: 6.6225\n",
      "Epoch 29/50\n",
      "2/2 [==============================] - 0s 6ms/step - loss: 6.6221\n",
      "Epoch 30/50\n",
      "2/2 [==============================] - 0s 5ms/step - loss: 6.6246\n",
      "Epoch 31/50\n",
      "2/2 [==============================] - 0s 5ms/step - loss: 6.6313\n",
      "Epoch 32/50\n",
      "2/2 [==============================] - 0s 5ms/step - loss: 6.6334\n",
      "Epoch 33/50\n",
      "2/2 [==============================] - 0s 7ms/step - loss: 6.6337\n",
      "Epoch 34/50\n",
      "2/2 [==============================] - 0s 5ms/step - loss: 6.6920\n",
      "Epoch 35/50\n",
      "2/2 [==============================] - 0s 5ms/step - loss: 6.6904\n",
      "Epoch 36/50\n",
      "2/2 [==============================] - 0s 6ms/step - loss: 6.6651\n",
      "Epoch 37/50\n",
      "2/2 [==============================] - 0s 7ms/step - loss: 6.6793\n",
      "Epoch 38/50\n",
      "2/2 [==============================] - 0s 7ms/step - loss: 6.6757\n",
      "Epoch 39/50\n",
      "2/2 [==============================] - 0s 7ms/step - loss: 6.6441\n",
      "Epoch 40/50\n",
      "2/2 [==============================] - 0s 5ms/step - loss: 6.6393\n",
      "Epoch 41/50\n",
      "2/2 [==============================] - 0s 5ms/step - loss: 6.6301\n",
      "Epoch 42/50\n",
      "2/2 [==============================] - 0s 7ms/step - loss: 6.6375\n",
      "Epoch 43/50\n",
      "2/2 [==============================] - 0s 5ms/step - loss: 6.6456\n",
      "Epoch 44/50\n",
      "2/2 [==============================] - 0s 4ms/step - loss: 6.6503\n",
      "Epoch 45/50\n",
      "2/2 [==============================] - 0s 7ms/step - loss: 6.6285\n",
      "Epoch 46/50\n",
      "2/2 [==============================] - 0s 4ms/step - loss: 6.6297\n",
      "Epoch 47/50\n",
      "2/2 [==============================] - 0s 6ms/step - loss: 6.6389\n",
      "Epoch 48/50\n",
      "2/2 [==============================] - 0s 6ms/step - loss: 6.6466\n",
      "Epoch 49/50\n",
      "2/2 [==============================] - 0s 8ms/step - loss: 6.6217\n",
      "Epoch 50/50\n",
      "2/2 [==============================] - 0s 7ms/step - loss: 6.6251\n"
     ]
    }
   ],
   "source": [
    "# create a sequential model\n",
    "# ..keras.model\n",
    "# ..keras.layer\n",
    "# ..keras.optimizers\n",
    "# ..keras.losses\n",
    "\n",
    "# hypothesis\n",
    "model = tf.keras.models.Sequential()\n",
    "model.add(tf.keras.layers.Dense(1)) # output (none, 1)\n",
    "\n",
    "# optimizer # loss\n",
    "model.compile(optimizer=tf.keras.optimizers.SGD(learning_rate=0.0001),\n",
    "              loss=tf.keras.losses.mse)\n",
    "\n",
    "# train\n",
    "train = model.fit(x_train, y_train, epochs=50)"
   ],
   "metadata": {
    "collapsed": false,
    "ExecuteTime": {
     "end_time": "2023-07-09T17:26:50.674716Z",
     "start_time": "2023-07-09T17:26:49.393278Z"
    }
   }
  },
  {
   "cell_type": "markdown",
   "source": [
    "## model - performance"
   ],
   "metadata": {
    "collapsed": false
   }
  },
  {
   "cell_type": "code",
   "execution_count": 12,
   "outputs": [
    {
     "data": {
      "text/plain": "<Figure size 300x300 with 1 Axes>",
      "image/png": "[encoded data removed]"
     },
     "metadata": {},
     "output_type": "display_data"
    }
   ],
   "source": [
    "# performance analysis\n",
    "\n",
    "plt.figure(figsize=(3,3))\n",
    "plt.plot(train.history['loss'], label=\"loss\")\n",
    "plt.legend()\n",
    "plt.show()"
   ],
   "metadata": {
    "collapsed": false,
    "ExecuteTime": {
     "end_time": "2023-07-09T17:26:54.758132Z",
     "start_time": "2023-07-09T17:26:54.534332Z"
    }
   }
  },
  {
   "cell_type": "markdown",
   "source": [
    "## model - prediction"
   ],
   "metadata": {
    "collapsed": false
   }
  },
  {
   "cell_type": "code",
   "execution_count": 13,
   "outputs": [
    {
     "name": "stdout",
     "output_type": "stream",
     "text": [
      "1/1 [==============================] - 0s 86ms/step\n"
     ]
    },
    {
     "data": {
      "text/plain": "<Figure size 500x300 with 1 Axes>",
      "image/png": "[encoded data removed]"
     },
     "metadata": {},
     "output_type": "display_data"
    }
   ],
   "source": [
    "# prediction\n",
    "\n",
    "y_pred = model.predict(np.reshape(x_test, newshape=(-1,1)))  #reshape (10,) -> (10,1)\n",
    "\n",
    "plt.figure(figsize=(5,3))\n",
    "plt.plot(x_test, y_pred, color=\"red\", label=\"best fit\")\n",
    "\n",
    "plt.scatter(x_test, y_test, label= \"test data\")\n",
    "plt.legend()\n",
    "plt.show()"
   ],
   "metadata": {
    "collapsed": false,
    "ExecuteTime": {
     "end_time": "2023-07-09T17:26:59.171988Z",
     "start_time": "2023-07-09T17:26:58.776292Z"
    }
   }
  },
  {
   "cell_type": "code",
   "execution_count": null,
   "outputs": [],
   "source": [],
   "metadata": {
    "collapsed": false
   }
  }
 ],
 "metadata": {
  "kernelspec": {
   "display_name": "Python 3",
   "language": "python",
   "name": "python3"
  },
  "language_info": {
   "codemirror_mode": {
    "name": "ipython",
    "version": 2
   },
   "file_extension": ".py",
   "mimetype": "text/x-python",
   "name": "python",
   "nbconvert_exporter": "python",
   "pygments_lexer": "ipython2",
   "version": "2.7.6"
  }
 },
 "nbformat": 4,
 "nbformat_minor": 0
}
