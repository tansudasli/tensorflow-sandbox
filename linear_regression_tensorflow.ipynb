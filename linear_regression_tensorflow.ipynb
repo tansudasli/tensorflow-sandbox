{
 "cells": [
  {
   "cell_type": "markdown",
   "source": [
    "# Linear Regression\n",
    "\n",
    "- Generate dummy [x,y] values\n",
    "- Create model by tensorflow\n"
   ],
   "metadata": {
    "collapsed": false
   }
  },
  {
   "cell_type": "code",
   "execution_count": 224,
   "outputs": [],
   "source": [
    "import numpy as np\n",
    "import tensorflow as tf\n",
    "import matplotlib.pyplot as plt\n",
    "import seaborn as sns"
   ],
   "metadata": {
    "collapsed": false,
    "ExecuteTime": {
     "end_time": "2023-07-09T13:59:37.761602Z",
     "start_time": "2023-07-09T13:59:37.750010Z"
    }
   }
  },
  {
   "cell_type": "markdown",
   "source": [
    "## prepare - training data"
   ],
   "metadata": {
    "collapsed": false
   }
  },
  {
   "cell_type": "code",
   "execution_count": 258,
   "outputs": [
    {
     "name": "stdout",
     "output_type": "stream",
     "text": [
      "x [0.         1.02040816 2.04081633 3.06122449 4.08163265]\n",
      "y [0.         1.02040816 2.04081633 3.06122449 4.08163265]\n"
     ]
    }
   ],
   "source": [
    "# generate 50 size dataset(x, y=h(x))\n",
    "# add noise to dataset(x, y)\n",
    "# graph dataset(x, y)\n",
    "\n",
    "x = np.linspace(0, 50, 50)   #0 to 50, 50 sample, float\n",
    "y = np.linspace(0, 50, 50)\n",
    "\n",
    "\n",
    "print('x', x[0:5])\n",
    "print('y', y[0:5])"
   ],
   "metadata": {
    "collapsed": false,
    "ExecuteTime": {
     "end_time": "2023-07-09T14:22:45.769605Z",
     "start_time": "2023-07-09T14:22:45.735957Z"
    }
   }
  },
  {
   "cell_type": "code",
   "execution_count": 222,
   "outputs": [
    {
     "name": "stdout",
     "output_type": "stream",
     "text": [
      "x [3.07092975 6.72319034 2.905774   8.75312117 5.95262137]\n",
      "y [  0.70929748  28.04822994 -19.30960691  29.98019132  -7.20848023]\n",
      "shape (50,) (50,)\n"
     ]
    }
   ],
   "source": [
    "# add noise\n",
    "\n",
    "x += np.random.default_rng(1).random(50)\n",
    "y += np.random.default_rng(1).uniform(-5, 5, 50)\n",
    "\n",
    "print('x', x[0:5])\n",
    "print('y', y[0:5])\n",
    "\n",
    "print('shape', x.shape, y.shape)"
   ],
   "metadata": {
    "collapsed": false,
    "ExecuteTime": {
     "end_time": "2023-07-09T13:52:01.093284Z",
     "start_time": "2023-07-09T13:52:01.079830Z"
    }
   }
  },
  {
   "cell_type": "code",
   "execution_count": 191,
   "outputs": [
    {
     "data": {
      "text/plain": "<Figure size 640x480 with 1 Axes>",
      "image/png": "[encoded data removed]"
     },
     "metadata": {},
     "output_type": "display_data"
    }
   ],
   "source": [
    "plt.scatter(x, y)\n",
    "\n",
    "plt.xlabel = \"x\"\n",
    "plt.ylabel = \"y\"\n",
    "plt.title(\"dataset\")\n",
    "plt.show()"
   ],
   "metadata": {
    "collapsed": false,
    "ExecuteTime": {
     "end_time": "2023-07-09T13:19:46.965477Z",
     "start_time": "2023-07-09T13:19:46.265025Z"
    }
   }
  },
  {
   "cell_type": "markdown",
   "source": [
    "## model"
   ],
   "metadata": {
    "collapsed": false
   }
  },
  {
   "cell_type": "code",
   "execution_count": 218,
   "outputs": [
    {
     "name": "stdout",
     "output_type": "stream",
     "text": [
      "(40, 1) (40,)\n"
     ]
    }
   ],
   "source": [
    "# reshape numpy arrays\n",
    "\n",
    "x_train = np.array(x_train).reshape((-1,1))   # (40,) -> (40, 1)\n",
    "y_train = np.array(y_train)                   # (40,)\n",
    "\n",
    "print(np.shape(x_train), np.shape(y_train))"
   ],
   "metadata": {
    "collapsed": false,
    "ExecuteTime": {
     "end_time": "2023-07-09T13:51:18.681618Z",
     "start_time": "2023-07-09T13:51:18.676025Z"
    }
   }
  },
  {
   "cell_type": "code",
   "execution_count": 227,
   "outputs": [
    {
     "name": "stdout",
     "output_type": "stream",
     "text": [
      "Epoch 1/50\n",
      "2/2 [==============================] - 0s 28ms/step - loss: 248.2294\n",
      "Epoch 2/50\n",
      "2/2 [==============================] - 0s 7ms/step - loss: 151.8016\n",
      "Epoch 3/50\n",
      "2/2 [==============================] - 0s 7ms/step - loss: 102.5582\n",
      "Epoch 4/50\n",
      "2/2 [==============================] - 0s 9ms/step - loss: 67.6574\n",
      "Epoch 5/50\n",
      "2/2 [==============================] - 0s 8ms/step - loss: 49.5351\n",
      "Epoch 6/50\n",
      "2/2 [==============================] - 0s 7ms/step - loss: 38.8322\n",
      "Epoch 7/50\n",
      "2/2 [==============================] - 0s 8ms/step - loss: 33.4052\n",
      "Epoch 8/50\n",
      "2/2 [==============================] - 0s 8ms/step - loss: 29.2458\n",
      "Epoch 9/50\n",
      "2/2 [==============================] - 0s 9ms/step - loss: 28.6884\n",
      "Epoch 10/50\n",
      "2/2 [==============================] - 0s 9ms/step - loss: 27.4260\n",
      "Epoch 11/50\n",
      "2/2 [==============================] - 0s 8ms/step - loss: 27.5720\n",
      "Epoch 12/50\n",
      "2/2 [==============================] - 0s 9ms/step - loss: 27.4901\n",
      "Epoch 13/50\n",
      "2/2 [==============================] - 0s 9ms/step - loss: 27.1803\n",
      "Epoch 14/50\n",
      "2/2 [==============================] - 0s 9ms/step - loss: 26.7478\n",
      "Epoch 15/50\n",
      "2/2 [==============================] - 0s 9ms/step - loss: 26.7126\n",
      "Epoch 16/50\n",
      "2/2 [==============================] - 0s 10ms/step - loss: 26.6818\n",
      "Epoch 17/50\n",
      "2/2 [==============================] - 0s 10ms/step - loss: 26.6739\n",
      "Epoch 18/50\n",
      "2/2 [==============================] - 0s 9ms/step - loss: 26.5111\n",
      "Epoch 19/50\n",
      "2/2 [==============================] - 0s 10ms/step - loss: 26.4939\n",
      "Epoch 20/50\n",
      "2/2 [==============================] - 0s 9ms/step - loss: 26.5122\n",
      "Epoch 21/50\n",
      "2/2 [==============================] - 0s 7ms/step - loss: 26.5279\n",
      "Epoch 22/50\n",
      "2/2 [==============================] - 0s 8ms/step - loss: 26.5358\n",
      "Epoch 23/50\n",
      "2/2 [==============================] - 0s 7ms/step - loss: 26.5059\n",
      "Epoch 24/50\n",
      "2/2 [==============================] - 0s 9ms/step - loss: 26.6534\n",
      "Epoch 25/50\n",
      "2/2 [==============================] - 0s 7ms/step - loss: 26.5904\n",
      "Epoch 26/50\n",
      "2/2 [==============================] - 0s 9ms/step - loss: 26.5049\n",
      "Epoch 27/50\n",
      "2/2 [==============================] - 0s 8ms/step - loss: 26.6160\n",
      "Epoch 28/50\n",
      "2/2 [==============================] - 0s 10ms/step - loss: 26.5692\n",
      "Epoch 29/50\n",
      "2/2 [==============================] - 0s 7ms/step - loss: 26.6135\n",
      "Epoch 30/50\n",
      "2/2 [==============================] - 0s 9ms/step - loss: 26.6940\n",
      "Epoch 31/50\n",
      "2/2 [==============================] - 0s 6ms/step - loss: 26.6414\n",
      "Epoch 32/50\n",
      "2/2 [==============================] - 0s 16ms/step - loss: 26.5153\n",
      "Epoch 33/50\n",
      "2/2 [==============================] - 0s 11ms/step - loss: 26.4971\n",
      "Epoch 34/50\n",
      "2/2 [==============================] - 0s 10ms/step - loss: 26.5031\n",
      "Epoch 35/50\n",
      "2/2 [==============================] - 0s 10ms/step - loss: 26.5190\n",
      "Epoch 36/50\n",
      "2/2 [==============================] - 0s 7ms/step - loss: 26.5495\n",
      "Epoch 37/50\n",
      "2/2 [==============================] - 0s 9ms/step - loss: 26.5716\n",
      "Epoch 38/50\n",
      "2/2 [==============================] - 0s 7ms/step - loss: 26.5925\n",
      "Epoch 39/50\n",
      "2/2 [==============================] - 0s 7ms/step - loss: 26.4930\n",
      "Epoch 40/50\n",
      "2/2 [==============================] - 0s 5ms/step - loss: 26.5665\n",
      "Epoch 41/50\n",
      "2/2 [==============================] - 0s 6ms/step - loss: 26.6069\n",
      "Epoch 42/50\n",
      "2/2 [==============================] - 0s 7ms/step - loss: 26.6143\n",
      "Epoch 43/50\n",
      "2/2 [==============================] - 0s 7ms/step - loss: 26.6385\n",
      "Epoch 44/50\n",
      "2/2 [==============================] - 0s 6ms/step - loss: 26.7109\n",
      "Epoch 45/50\n",
      "2/2 [==============================] - 0s 8ms/step - loss: 26.7144\n",
      "Epoch 46/50\n",
      "2/2 [==============================] - 0s 9ms/step - loss: 26.6445\n",
      "Epoch 47/50\n",
      "2/2 [==============================] - 0s 7ms/step - loss: 26.5833\n",
      "Epoch 48/50\n",
      "2/2 [==============================] - 0s 9ms/step - loss: 26.5381\n",
      "Epoch 49/50\n",
      "2/2 [==============================] - 0s 6ms/step - loss: 26.6769\n",
      "Epoch 50/50\n",
      "2/2 [==============================] - 0s 6ms/step - loss: 26.6780\n"
     ]
    }
   ],
   "source": [
    "# create a sequential model\n",
    "\n",
    "# from tensorflow.keras.models import Sequential\n",
    "# from tensorflow.keras.layers import Dense\n",
    "\n",
    "# hypothesis\n",
    "model = tf.keras.models.Sequential()\n",
    "model.add(tf.keras.layers.Dense(1))\n",
    "\n",
    "# optimizer # loss\n",
    "model.compile(optimizer=tf.keras.optimizers.SGD(learning_rate=0.0001),\n",
    "              loss=tf.keras.losses.mse)\n",
    "\n",
    "# train\n",
    "train = model.fit(x_train, y_train, epochs=50)\n",
    "\n"
   ],
   "metadata": {
    "collapsed": false,
    "ExecuteTime": {
     "end_time": "2023-07-09T14:06:52.442292Z",
     "start_time": "2023-07-09T14:06:51.025338Z"
    }
   }
  },
  {
   "cell_type": "code",
   "execution_count": 244,
   "outputs": [
    {
     "data": {
      "text/plain": "<Figure size 300x300 with 1 Axes>",
      "image/png": "[encoded data removed]"
     },
     "metadata": {},
     "output_type": "display_data"
    }
   ],
   "source": [
    "# performance analysis\n",
    "\n",
    "plt.figure(figsize=(3,3))\n",
    "plt.plot(train.history['loss'], label=\"loss\")\n",
    "plt.legend()\n",
    "plt.show()"
   ],
   "metadata": {
    "collapsed": false,
    "ExecuteTime": {
     "end_time": "2023-07-09T14:12:41.547036Z",
     "start_time": "2023-07-09T14:12:41.262265Z"
    }
   }
  },
  {
   "cell_type": "code",
   "execution_count": 257,
   "outputs": [
    {
     "name": "stdout",
     "output_type": "stream",
     "text": [
      "1/1 [==============================] - 0s 29ms/step\n"
     ]
    },
    {
     "data": {
      "text/plain": "<Figure size 500x300 with 1 Axes>",
      "image/png": "[encoded data removed]"
     },
     "metadata": {},
     "output_type": "display_data"
    }
   ],
   "source": [
    "# test the model\n",
    "\n",
    "y_pred = model.predict(np.reshape(x_test, newshape=(-1,1)))\n",
    "\n",
    "plt.figure(figsize=(5,3))\n",
    "plt.plot(x_test, y_pred, color=\"red\", label=\"best fit\")\n",
    "\n",
    "plt.scatter(x_test, y_test, label= \"test data\")\n",
    "plt.legend()\n",
    "plt.show()"
   ],
   "metadata": {
    "collapsed": false,
    "ExecuteTime": {
     "end_time": "2023-07-09T14:19:26.072561Z",
     "start_time": "2023-07-09T14:19:25.386322Z"
    }
   }
  },
  {
   "cell_type": "code",
   "execution_count": 208,
   "outputs": [
    {
     "data": {
      "text/plain": "<Figure size 300x300 with 1 Axes>",
      "image/png": "[encoded data removed]"
     },
     "metadata": {},
     "output_type": "display_data"
    }
   ],
   "source": [
    "# sampling\n",
    "# split data as train and test set\n",
    "\n",
    "x_train = x[0:40]\n",
    "y_train = y[0:40]\n",
    "\n",
    "x_test = x[40:]\n",
    "y_test = y[40:]\n",
    "\n",
    "plt.figure(figsize=(3,3))\n",
    "plt.title(\"training data\")\n",
    "plt.scatter(x_train, y_train)\n",
    "plt.show()"
   ],
   "metadata": {
    "collapsed": false,
    "ExecuteTime": {
     "end_time": "2023-07-09T13:43:40.527999Z",
     "start_time": "2023-07-09T13:43:40.271889Z"
    }
   }
  },
  {
   "cell_type": "code",
   "execution_count": null,
   "outputs": [],
   "source": [],
   "metadata": {
    "collapsed": false
   }
  }
 ],
 "metadata": {
  "kernelspec": {
   "display_name": "Python 3",
   "language": "python",
   "name": "python3"
  },
  "language_info": {
   "codemirror_mode": {
    "name": "ipython",
    "version": 2
   },
   "file_extension": ".py",
   "mimetype": "text/x-python",
   "name": "python",
   "nbconvert_exporter": "python",
   "pygments_lexer": "ipython2",
   "version": "2.7.6"
  }
 },
 "nbformat": 4,
 "nbformat_minor": 0
}
