{
 "cells": [
  {
   "cell_type": "markdown",
   "source": [
    "# Linear Regression\n",
    "\n",
    "- Generate dummy [x,y] values\n",
    "- Create model by tensorflow\n"
   ],
   "metadata": {
    "collapsed": false
   }
  },
  {
   "cell_type": "code",
   "execution_count": 259,
   "outputs": [],
   "source": [
    "import numpy as np\n",
    "import tensorflow as tf\n",
    "import matplotlib.pyplot as plt"
   ],
   "metadata": {
    "collapsed": false,
    "ExecuteTime": {
     "end_time": "2023-07-09T14:24:30.906771Z",
     "start_time": "2023-07-09T14:24:30.886357Z"
    }
   }
  },
  {
   "cell_type": "markdown",
   "source": [
    "## prepare - training data"
   ],
   "metadata": {
    "collapsed": false
   }
  },
  {
   "cell_type": "code",
   "execution_count": 260,
   "outputs": [
    {
     "name": "stdout",
     "output_type": "stream",
     "text": [
      "x [0.         1.02040816 2.04081633 3.06122449 4.08163265]\n",
      "y [0.         1.02040816 2.04081633 3.06122449 4.08163265]\n"
     ]
    }
   ],
   "source": [
    "# generate 50 size dataset(x, y=h(x))\n",
    "# add noise to dataset(x, y)\n",
    "# graph dataset(x, y)\n",
    "\n",
    "x = np.linspace(0, 50, 50)   #0 to 50, 50 sample, float\n",
    "y = np.linspace(0, 50, 50)\n",
    "\n",
    "\n",
    "print('x', x[0:5])\n",
    "print('y', y[0:5])"
   ],
   "metadata": {
    "collapsed": false,
    "ExecuteTime": {
     "end_time": "2023-07-09T14:24:30.959416Z",
     "start_time": "2023-07-09T14:24:30.914470Z"
    }
   }
  },
  {
   "cell_type": "code",
   "execution_count": 261,
   "outputs": [
    {
     "name": "stdout",
     "output_type": "stream",
     "text": [
      "x [0.51182162 1.97087186 2.18497594 4.00987394 4.39346411]\n",
      "y [ 0.11821625  5.52504513 -1.51758755  7.54771896  2.19994717]\n",
      "shape (50,) (50,)\n"
     ]
    }
   ],
   "source": [
    "# add noise\n",
    "\n",
    "x += np.random.default_rng(1).random(50)\n",
    "y += np.random.default_rng(1).uniform(-5, 5, 50)\n",
    "\n",
    "print('x', x[0:5])\n",
    "print('y', y[0:5])\n",
    "\n",
    "print('shape', x.shape, y.shape)"
   ],
   "metadata": {
    "collapsed": false,
    "ExecuteTime": {
     "end_time": "2023-07-09T14:24:30.961991Z",
     "start_time": "2023-07-09T14:24:30.948607Z"
    }
   }
  },
  {
   "cell_type": "code",
   "execution_count": 262,
   "outputs": [
    {
     "data": {
      "text/plain": "<Figure size 640x480 with 1 Axes>",
      "image/png": "[encoded data removed]"
     },
     "metadata": {},
     "output_type": "display_data"
    }
   ],
   "source": [
    "plt.scatter(x, y)\n",
    "\n",
    "plt.xlabel = \"x\"\n",
    "plt.ylabel = \"y\"\n",
    "plt.title(\"dataset\")\n",
    "plt.show()"
   ],
   "metadata": {
    "collapsed": false,
    "ExecuteTime": {
     "end_time": "2023-07-09T14:24:31.643241Z",
     "start_time": "2023-07-09T14:24:30.972656Z"
    }
   }
  },
  {
   "cell_type": "markdown",
   "source": [
    "## model"
   ],
   "metadata": {
    "collapsed": false
   }
  },
  {
   "cell_type": "code",
   "execution_count": 263,
   "outputs": [
    {
     "data": {
      "text/plain": "<Figure size 300x300 with 1 Axes>",
      "image/png": "[encoded data removed]"
     },
     "metadata": {},
     "output_type": "display_data"
    }
   ],
   "source": [
    "# sampling\n",
    "# split data as train and test set\n",
    "\n",
    "x_train = x[0:40]\n",
    "y_train = y[0:40]\n",
    "\n",
    "x_test = x[40:]\n",
    "y_test = y[40:]\n",
    "\n",
    "plt.figure(figsize=(3,3))\n",
    "plt.title(\"training data\")\n",
    "plt.scatter(x_train, y_train)\n",
    "plt.show()"
   ],
   "metadata": {
    "collapsed": false,
    "ExecuteTime": {
     "end_time": "2023-07-09T14:24:32.193428Z",
     "start_time": "2023-07-09T14:24:31.644164Z"
    }
   }
  },
  {
   "cell_type": "code",
   "execution_count": 264,
   "outputs": [
    {
     "name": "stdout",
     "output_type": "stream",
     "text": [
      "(40, 1) (40,)\n"
     ]
    }
   ],
   "source": [
    "# reshape numpy arrays\n",
    "\n",
    "x_train = np.array(x_train).reshape((-1,1))   # (40,) -> (40, 1)\n",
    "y_train = np.array(y_train)                   # (40,)\n",
    "\n",
    "print(np.shape(x_train), np.shape(y_train))"
   ],
   "metadata": {
    "collapsed": false,
    "ExecuteTime": {
     "end_time": "2023-07-09T14:24:32.193863Z",
     "start_time": "2023-07-09T14:24:32.193072Z"
    }
   }
  },
  {
   "cell_type": "code",
   "execution_count": 265,
   "outputs": [
    {
     "name": "stdout",
     "output_type": "stream",
     "text": [
      "Epoch 1/50\n",
      "2/2 [==============================] - 0s 11ms/step - loss: 25.2793\n",
      "Epoch 2/50\n",
      "2/2 [==============================] - 0s 5ms/step - loss: 17.9186\n",
      "Epoch 3/50\n",
      "2/2 [==============================] - 0s 5ms/step - loss: 14.1941\n",
      "Epoch 4/50\n",
      "2/2 [==============================] - 0s 4ms/step - loss: 11.2125\n",
      "Epoch 5/50\n",
      "2/2 [==============================] - 0s 4ms/step - loss: 9.5687\n",
      "Epoch 6/50\n",
      "2/2 [==============================] - 0s 4ms/step - loss: 8.3496\n",
      "Epoch 7/50\n",
      "2/2 [==============================] - 0s 4ms/step - loss: 7.7505\n",
      "Epoch 8/50\n",
      "2/2 [==============================] - 0s 4ms/step - loss: 7.2585\n",
      "Epoch 9/50\n",
      "2/2 [==============================] - 0s 4ms/step - loss: 7.0278\n",
      "Epoch 10/50\n",
      "2/2 [==============================] - 0s 5ms/step - loss: 6.9023\n",
      "Epoch 11/50\n",
      "2/2 [==============================] - 0s 6ms/step - loss: 6.7348\n",
      "Epoch 12/50\n",
      "2/2 [==============================] - 0s 4ms/step - loss: 6.6892\n",
      "Epoch 13/50\n",
      "2/2 [==============================] - 0s 5ms/step - loss: 6.6725\n",
      "Epoch 14/50\n",
      "2/2 [==============================] - 0s 6ms/step - loss: 6.6691\n",
      "Epoch 15/50\n",
      "2/2 [==============================] - 0s 5ms/step - loss: 6.6107\n",
      "Epoch 16/50\n",
      "2/2 [==============================] - 0s 6ms/step - loss: 6.5993\n",
      "Epoch 17/50\n",
      "2/2 [==============================] - 0s 7ms/step - loss: 6.5994\n",
      "Epoch 18/50\n",
      "2/2 [==============================] - 0s 6ms/step - loss: 6.6016\n",
      "Epoch 19/50\n",
      "2/2 [==============================] - 0s 6ms/step - loss: 6.6000\n",
      "Epoch 20/50\n",
      "2/2 [==============================] - 0s 7ms/step - loss: 6.6052\n",
      "Epoch 21/50\n",
      "2/2 [==============================] - 0s 6ms/step - loss: 6.6150\n",
      "Epoch 22/50\n",
      "2/2 [==============================] - 0s 6ms/step - loss: 6.6399\n",
      "Epoch 23/50\n",
      "2/2 [==============================] - 0s 7ms/step - loss: 6.6418\n",
      "Epoch 24/50\n",
      "2/2 [==============================] - 0s 5ms/step - loss: 6.6258\n",
      "Epoch 25/50\n",
      "2/2 [==============================] - 0s 5ms/step - loss: 6.6265\n",
      "Epoch 26/50\n",
      "2/2 [==============================] - 0s 5ms/step - loss: 6.6244\n",
      "Epoch 27/50\n",
      "2/2 [==============================] - 0s 6ms/step - loss: 6.6236\n",
      "Epoch 28/50\n",
      "2/2 [==============================] - 0s 9ms/step - loss: 6.6181\n",
      "Epoch 29/50\n",
      "2/2 [==============================] - 0s 8ms/step - loss: 6.6204\n",
      "Epoch 30/50\n",
      "2/2 [==============================] - 0s 8ms/step - loss: 6.6298\n",
      "Epoch 31/50\n",
      "2/2 [==============================] - 0s 9ms/step - loss: 6.6653\n",
      "Epoch 32/50\n",
      "2/2 [==============================] - 0s 8ms/step - loss: 6.6820\n",
      "Epoch 33/50\n",
      "2/2 [==============================] - 0s 7ms/step - loss: 6.6707\n",
      "Epoch 34/50\n",
      "2/2 [==============================] - 0s 9ms/step - loss: 6.6264\n",
      "Epoch 35/50\n",
      "2/2 [==============================] - 0s 7ms/step - loss: 6.6254\n",
      "Epoch 36/50\n",
      "2/2 [==============================] - 0s 6ms/step - loss: 6.6037\n",
      "Epoch 37/50\n",
      "2/2 [==============================] - 0s 5ms/step - loss: 6.6135\n",
      "Epoch 38/50\n",
      "2/2 [==============================] - 0s 8ms/step - loss: 6.6169\n",
      "Epoch 39/50\n",
      "2/2 [==============================] - 0s 5ms/step - loss: 6.6190\n",
      "Epoch 40/50\n",
      "2/2 [==============================] - 0s 6ms/step - loss: 6.6146\n",
      "Epoch 41/50\n",
      "2/2 [==============================] - 0s 7ms/step - loss: 6.6262\n",
      "Epoch 42/50\n",
      "2/2 [==============================] - 0s 7ms/step - loss: 6.6071\n",
      "Epoch 43/50\n",
      "2/2 [==============================] - 0s 6ms/step - loss: 6.5998\n",
      "Epoch 44/50\n",
      "2/2 [==============================] - 0s 8ms/step - loss: 6.6010\n",
      "Epoch 45/50\n",
      "2/2 [==============================] - 0s 8ms/step - loss: 6.6025\n",
      "Epoch 46/50\n",
      "2/2 [==============================] - 0s 8ms/step - loss: 6.6112\n",
      "Epoch 47/50\n",
      "2/2 [==============================] - 0s 7ms/step - loss: 6.6285\n",
      "Epoch 48/50\n",
      "2/2 [==============================] - 0s 8ms/step - loss: 6.6290\n",
      "Epoch 49/50\n",
      "2/2 [==============================] - 0s 5ms/step - loss: 6.6171\n",
      "Epoch 50/50\n",
      "2/2 [==============================] - 0s 9ms/step - loss: 6.6208\n"
     ]
    }
   ],
   "source": [
    "# create a sequential model\n",
    "\n",
    "# from tensorflow.keras.models import Sequential\n",
    "# from tensorflow.keras.layers import Dense\n",
    "\n",
    "# hypothesis\n",
    "model = tf.keras.models.Sequential()\n",
    "model.add(tf.keras.layers.Dense(1))\n",
    "\n",
    "# optimizer # loss\n",
    "model.compile(optimizer=tf.keras.optimizers.SGD(learning_rate=0.0001),\n",
    "              loss=tf.keras.losses.mse)\n",
    "\n",
    "# train\n",
    "train = model.fit(x_train, y_train, epochs=50)\n",
    "\n"
   ],
   "metadata": {
    "collapsed": false,
    "ExecuteTime": {
     "end_time": "2023-07-09T14:24:33.291873Z",
     "start_time": "2023-07-09T14:24:32.193619Z"
    }
   }
  },
  {
   "cell_type": "code",
   "execution_count": 266,
   "outputs": [
    {
     "data": {
      "text/plain": "<Figure size 300x300 with 1 Axes>",
      "image/png": "[encoded data removed]"
     },
     "metadata": {},
     "output_type": "display_data"
    }
   ],
   "source": [
    "# performance analysis\n",
    "\n",
    "plt.figure(figsize=(3,3))\n",
    "plt.plot(train.history['loss'], label=\"loss\")\n",
    "plt.legend()\n",
    "plt.show()"
   ],
   "metadata": {
    "collapsed": false,
    "ExecuteTime": {
     "end_time": "2023-07-09T14:24:33.893385Z",
     "start_time": "2023-07-09T14:24:33.322697Z"
    }
   }
  },
  {
   "cell_type": "code",
   "execution_count": 267,
   "outputs": [
    {
     "name": "stdout",
     "output_type": "stream",
     "text": [
      "1/1 [==============================] - 0s 65ms/step\n"
     ]
    },
    {
     "data": {
      "text/plain": "<Figure size 500x300 with 1 Axes>",
      "image/png": "[encoded data removed]"
     },
     "metadata": {},
     "output_type": "display_data"
    }
   ],
   "source": [
    "# test the model\n",
    "\n",
    "y_pred = model.predict(np.reshape(x_test, newshape=(-1,1)))\n",
    "\n",
    "plt.figure(figsize=(5,3))\n",
    "plt.plot(x_test, y_pred, color=\"red\", label=\"best fit\")\n",
    "\n",
    "plt.scatter(x_test, y_test, label= \"test data\")\n",
    "plt.legend()\n",
    "plt.show()"
   ],
   "metadata": {
    "collapsed": false,
    "ExecuteTime": {
     "end_time": "2023-07-09T14:24:34.492051Z",
     "start_time": "2023-07-09T14:24:33.899392Z"
    }
   }
  }
 ],
 "metadata": {
  "kernelspec": {
   "display_name": "Python 3",
   "language": "python",
   "name": "python3"
  },
  "language_info": {
   "codemirror_mode": {
    "name": "ipython",
    "version": 2
   },
   "file_extension": ".py",
   "mimetype": "text/x-python",
   "name": "python",
   "nbconvert_exporter": "python",
   "pygments_lexer": "ipython2",
   "version": "2.7.6"
  }
 },
 "nbformat": 4,
 "nbformat_minor": 0
}
