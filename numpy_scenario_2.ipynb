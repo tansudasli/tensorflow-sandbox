{
 "cells": [
  {
   "cell_type": "markdown",
   "source": [
    "## numpy - _transformation 2-d for ML_\n",
    "\n",
    "- x, y to dataset\n",
    "- dataset to x, y\n"
   ],
   "metadata": {
    "collapsed": false
   }
  },
  {
   "cell_type": "code",
   "execution_count": 1,
   "metadata": {
    "collapsed": true,
    "ExecuteTime": {
     "end_time": "2023-07-11T09:12:08.099684Z",
     "start_time": "2023-07-11T09:12:07.425263Z"
    }
   },
   "outputs": [],
   "source": [
    "import numpy as np"
   ]
  },
  {
   "cell_type": "code",
   "execution_count": 9,
   "outputs": [
    {
     "name": "stdout",
     "output_type": "stream",
     "text": [
      "features [[38 47 13]\n",
      " [10 39 41]\n",
      " [25  7 41]\n",
      " [25  7  6]\n",
      " [20 34 20]\n",
      " [42  0 21]\n",
      " [26 47 11]\n",
      " [41  3 16]\n",
      " [37 28 46]\n",
      " [37 45 41]] (10, 3)\n",
      "labels [88 97 63 60 89 91 75 57 91 75] (10,)\n"
     ]
    }
   ],
   "source": [
    "# generate x, y\n",
    "# then combine as dataset\n",
    "\n",
    "#think features as, (10 row, 3 features)\n",
    "#       a b c\n",
    "#   r1\n",
    "#   r2\n",
    "#\n",
    "#   rn\n",
    "#think labels as the target, (10 row, )\n",
    "features = np.random.default_rng(10).integers(low=0, high=50, size=(10, 3))\n",
    "labels = np.random.default_rng(10).integers(low=50, high=100, size=(10, ))\n",
    "\n",
    "print(\"features\", features, features.shape)\n",
    "print(\"labels\", labels, labels.shape)\n"
   ],
   "metadata": {
    "collapsed": false,
    "ExecuteTime": {
     "end_time": "2023-07-11T09:21:53.186320Z",
     "start_time": "2023-07-11T09:21:53.166711Z"
    }
   }
  },
  {
   "cell_type": "code",
   "execution_count": 19,
   "outputs": [
    {
     "name": "stdout",
     "output_type": "stream",
     "text": [
      "dataset [[47 51 75 95]\n",
      " [ 3 14 82 94]\n",
      " [24 31 86 42]\n",
      " [27 82 25 40]\n",
      " [64 54  8  2]\n",
      " [86 75 83 53]\n",
      " [81 32 45 78]\n",
      " [12 30 12 45]\n",
      " [97 13 38 40]\n",
      " [90 20 50 26]] (10, 4)\n",
      "features [[47 51 75]\n",
      " [ 3 14 82]\n",
      " [24 31 86]\n",
      " [27 82 25]\n",
      " [64 54  8]\n",
      " [86 75 83]\n",
      " [81 32 45]\n",
      " [12 30 12]\n",
      " [97 13 38]\n",
      " [90 20 50]] (10, 3)\n",
      "labels [95 94 42 40  2 53 78 45 40 26] (10,)\n"
     ]
    }
   ],
   "source": [
    "# generate dataset\n",
    "# then, slice as\n",
    "#          features(except last column) and\n",
    "#          labels (only last column)\n",
    "\n",
    "dataset = np.random.default_rng(1).integers(low=0, high=100, size=(10, 4))\n",
    "\n",
    "features = dataset[:, :-1]  #all rows, not last column\n",
    "labels = dataset[:, -1]     #all rows, just last column\n",
    "\n",
    "print(\"dataset\", dataset, dataset.shape)      #dataset.size = n*m = 40\n",
    "print(\"features\", features, features.shape)   #dataset.size = n*m = 30\n",
    "print(\"labels\", labels, labels.shape)         #dataset.size = n*m = 10\n"
   ],
   "metadata": {
    "collapsed": false,
    "ExecuteTime": {
     "end_time": "2023-07-11T09:28:03.756665Z",
     "start_time": "2023-07-11T09:28:03.730596Z"
    }
   }
  },
  {
   "cell_type": "code",
   "execution_count": null,
   "outputs": [],
   "source": [],
   "metadata": {
    "collapsed": false
   }
  }
 ],
 "metadata": {
  "kernelspec": {
   "display_name": "Python 3",
   "language": "python",
   "name": "python3"
  },
  "language_info": {
   "codemirror_mode": {
    "name": "ipython",
    "version": 2
   },
   "file_extension": ".py",
   "mimetype": "text/x-python",
   "name": "python",
   "nbconvert_exporter": "python",
   "pygments_lexer": "ipython2",
   "version": "2.7.6"
  }
 },
 "nbformat": 4,
 "nbformat_minor": 0
}
