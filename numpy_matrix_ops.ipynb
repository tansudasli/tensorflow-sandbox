{
 "cells": [
  {
   "cell_type": "code",
   "execution_count": 1,
   "metadata": {
    "collapsed": true,
    "ExecuteTime": {
     "end_time": "2023-07-09T09:42:24.681617Z",
     "start_time": "2023-07-09T09:42:24.675635Z"
    }
   },
   "outputs": [],
   "source": [
    "import numpy as np\n"
   ]
  },
  {
   "cell_type": "markdown",
   "source": [
    "### element-of ...\n",
    "- multiply, sum, add, power, divide etc... is a easy way doing some operations on arrays\n",
    "instead of for-loop ! so, shape must be same !\n",
    "\n",
    "### product of ...\n",
    "- but matrix operation such as matmul, differs from that !!!!"
   ],
   "metadata": {
    "collapsed": false
   }
  },
  {
   "cell_type": "code",
   "execution_count": 4,
   "outputs": [
    {
     "name": "stdout",
     "output_type": "stream",
     "text": [
      "[10 40 90]\n",
      "140\n"
     ]
    }
   ],
   "source": [
    "x = np.array([1, 2, 3])\n",
    "y = np.array([10,20,30])\n",
    "\n",
    "k = np.multiply(x, y)\n",
    "z = np.matmul(x, y)\n",
    "\n",
    "print(k)\n",
    "print(z)   #matmul characteristic differs from multiplication of matrix's in some cases!"
   ],
   "metadata": {
    "collapsed": false,
    "ExecuteTime": {
     "end_time": "2023-07-09T09:48:00.685244Z",
     "start_time": "2023-07-09T09:48:00.678455Z"
    }
   }
  },
  {
   "cell_type": "code",
   "execution_count": 23,
   "outputs": [
    {
     "name": "stdout",
     "output_type": "stream",
     "text": [
      "[[4 5 2]\n",
      " [2 4 5]]\n",
      "[[4 5 2]\n",
      " [2 4 5]\n",
      " [3 1 5]]\n",
      "result \n",
      " [[32 42 43]\n",
      " [31 31 49]]\n"
     ]
    }
   ],
   "source": [
    "# the difference\n",
    "\n",
    "x = np.random.default_rng(10).choice([1, 2, 3, 4, 5], size=(2,3))\n",
    "y = np.random.default_rng(10).choice([1, 2, 3, 4, 5], size=(3,3))\n",
    "\n",
    "print(x)\n",
    "print(y)\n",
    "\n",
    "result = np.matmul(x, y)    # expects x(n,3) and y(3,m) = result(n, m)\n",
    "# kkk = np.multiply(x,y)    # expects same shape! x(2,3) and y(2,3)\n",
    "\n",
    "print(\"result \\n\", result)"
   ],
   "metadata": {
    "collapsed": false,
    "ExecuteTime": {
     "end_time": "2023-07-09T10:03:39.301521Z",
     "start_time": "2023-07-09T10:03:39.293206Z"
    }
   }
  },
  {
   "cell_type": "code",
   "execution_count": 47,
   "outputs": [
    {
     "name": "stdout",
     "output_type": "stream",
     "text": [
      "x [7.77 9.56 2.64 2.08 7.93 8.28 5.15 1.49 8.33 5.13]\n",
      "y [7. 9. 2. 2. 7. 8. 5. 1. 8. 5.]\n"
     ]
    }
   ],
   "source": [
    "# some functions\n",
    "\n",
    "x = np.random.default_rng(10).random(size=10, dtype='f')\n",
    "x = np.multiply(x, 10)\n",
    "\n",
    "x = np.round(x, decimals=2)   #rounds\n",
    "y = np.trunc(x)               #cuts\n",
    "\n",
    "print(\"x\", x)\n",
    "print(\"y\", y)"
   ],
   "metadata": {
    "collapsed": false,
    "ExecuteTime": {
     "end_time": "2023-07-09T11:55:09.118495Z",
     "start_time": "2023-07-09T11:55:09.110338Z"
    }
   }
  },
  {
   "cell_type": "code",
   "execution_count": 53,
   "outputs": [
    {
     "name": "stdout",
     "output_type": "stream",
     "text": [
      "x [ 1  4  7 10 13 16 19 22 25 28 31 34 37 40 43 46 49 52 55 58 61 64 67 70\n",
      " 73 76 79 82 85 88 91 94 97]\n"
     ]
    }
   ],
   "source": [
    "# range, [start, stop) with ant step float/int\n",
    "\n",
    "x = np.arange(start=1, stop=100, step=3)\n",
    "\n",
    "print('x', x)\n"
   ],
   "metadata": {
    "collapsed": false,
    "ExecuteTime": {
     "end_time": "2023-07-09T11:59:24.753800Z",
     "start_time": "2023-07-09T11:59:24.736728Z"
    }
   }
  },
  {
   "cell_type": "code",
   "execution_count": null,
   "outputs": [],
   "source": [],
   "metadata": {
    "collapsed": false
   }
  }
 ],
 "metadata": {
  "kernelspec": {
   "display_name": "Python 3",
   "language": "python",
   "name": "python3"
  },
  "language_info": {
   "codemirror_mode": {
    "name": "ipython",
    "version": 2
   },
   "file_extension": ".py",
   "mimetype": "text/x-python",
   "name": "python",
   "nbconvert_exporter": "python",
   "pygments_lexer": "ipython2",
   "version": "2.7.6"
  }
 },
 "nbformat": 4,
 "nbformat_minor": 0
}
