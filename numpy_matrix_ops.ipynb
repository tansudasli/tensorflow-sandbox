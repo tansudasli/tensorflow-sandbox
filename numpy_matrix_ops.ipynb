{
 "cells": [
  {
   "cell_type": "code",
   "execution_count": 1,
   "metadata": {
    "collapsed": true,
    "ExecuteTime": {
     "end_time": "2023-07-09T09:42:24.681617Z",
     "start_time": "2023-07-09T09:42:24.675635Z"
    }
   },
   "outputs": [],
   "source": [
    "import numpy as np\n"
   ]
  },
  {
   "cell_type": "markdown",
   "source": [
    "### element-of ...\n",
    "- multiply, sum, add, power, divide etc... is a easy way doing some operations on arrays\n",
    "instead of for-loop ! so, shape must be same !\n",
    "\n",
    "### product of ...\n",
    "- but matrix operation such as matmul, differs from that !!!!"
   ],
   "metadata": {
    "collapsed": false
   }
  },
  {
   "cell_type": "code",
   "execution_count": 4,
   "outputs": [
    {
     "name": "stdout",
     "output_type": "stream",
     "text": [
      "[10 40 90]\n",
      "140\n"
     ]
    }
   ],
   "source": [
    "x = np.array([1, 2, 3])\n",
    "y = np.array([10,20,30])\n",
    "\n",
    "k = np.multiply(x, y)\n",
    "z = np.matmul(x, y)\n",
    "\n",
    "print(k)\n",
    "print(z)   #matmul characteristic differs from multiplication of matrix's in some cases!"
   ],
   "metadata": {
    "collapsed": false,
    "ExecuteTime": {
     "end_time": "2023-07-09T09:48:00.685244Z",
     "start_time": "2023-07-09T09:48:00.678455Z"
    }
   }
  },
  {
   "cell_type": "code",
   "execution_count": 22,
   "outputs": [
    {
     "name": "stdout",
     "output_type": "stream",
     "text": [
      "[[4 5 2]\n",
      " [2 4 5]]\n",
      "[[4 5 2]\n",
      " [2 4 5]\n",
      " [3 1 5]]\n",
      "result \n",
      " [[32 42 43]\n",
      " [31 31 49]]\n"
     ]
    }
   ],
   "source": [
    "x = np.random.default_rng(10).choice([1, 2, 3, 4, 5], size=(2,3))\n",
    "y = np.random.default_rng(10).choice([1, 2, 3, 4, 5], size=(3,3))\n",
    "\n",
    "print(x)\n",
    "print(y)\n",
    "\n",
    "result = np.matmul(x, y)    # expects x(n,3) and y(3,m) = result(n, m)\n",
    "# kkk = np.multiply(x,y)    # expects same shape! x(2,3) and y(2,3)\n",
    "\n",
    "print(\"result \\n\", result)"
   ],
   "metadata": {
    "collapsed": false,
    "ExecuteTime": {
     "end_time": "2023-07-09T09:59:35.522924Z",
     "start_time": "2023-07-09T09:59:35.508619Z"
    }
   }
  },
  {
   "cell_type": "code",
   "execution_count": null,
   "outputs": [],
   "source": [],
   "metadata": {
    "collapsed": false
   }
  }
 ],
 "metadata": {
  "kernelspec": {
   "display_name": "Python 3",
   "language": "python",
   "name": "python3"
  },
  "language_info": {
   "codemirror_mode": {
    "name": "ipython",
    "version": 2
   },
   "file_extension": ".py",
   "mimetype": "text/x-python",
   "name": "python",
   "nbconvert_exporter": "python",
   "pygments_lexer": "ipython2",
   "version": "2.7.6"
  }
 },
 "nbformat": 4,
 "nbformat_minor": 0
}
