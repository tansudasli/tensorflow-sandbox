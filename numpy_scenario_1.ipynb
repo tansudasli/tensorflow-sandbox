{
 "cells": [
  {
   "cell_type": "markdown",
   "source": [
    "## numpy - _slicing and reshaping 1-d_\n",
    "\n",
    "- matrix operations x,y -> (x, y)\n",
    "- understand shapes\n",
    "- understand T\n",
    "- slicing v/h/dstack\n",
    "- reshaping\n",
    "- 1d is (x,) shape.. just an array not a matrix\n",
    "- always think the first number as row!"
   ],
   "metadata": {
    "collapsed": false
   }
  },
  {
   "cell_type": "code",
   "execution_count": 1,
   "metadata": {
    "collapsed": true,
    "ExecuteTime": {
     "end_time": "2023-07-10T07:50:12.713072Z",
     "start_time": "2023-07-10T07:50:12.696455Z"
    }
   },
   "outputs": [],
   "source": [
    "import numpy as np"
   ]
  },
  {
   "cell_type": "code",
   "execution_count": 8,
   "outputs": [
    {
     "name": "stdout",
     "output_type": "stream",
     "text": [
      "x [ 0  5 10 15 20 25 30 35 40 45] shape (10,)\n",
      "y [50 55 60 65 70 75 80 85 90 95] shape (10,)\n"
     ]
    }
   ],
   "source": [
    "# generate x, y\n",
    "# then combine as dataset\n",
    "x = np.arange(start=0, stop=50, step=5)\n",
    "y = np.arange(start=50, stop=100, step=5)\n",
    "\n",
    "\n",
    "print(\"x\", x, \"shape\", x.shape)\n",
    "print(\"y\", y, \"shape\", y.shape)"
   ],
   "metadata": {
    "collapsed": false,
    "ExecuteTime": {
     "end_time": "2023-07-10T08:00:23.383604Z",
     "start_time": "2023-07-10T08:00:23.350215Z"
    }
   }
  },
  {
   "cell_type": "code",
   "execution_count": 57,
   "outputs": [
    {
     "name": "stdout",
     "output_type": "stream",
     "text": [
      "concatenate (20,)\n",
      "hstack (20,)\n",
      "vstack (2, 10)\n",
      "vstack.Transpose (10, 2)\n",
      "dstack (1, 10, 2)\n",
      "dstack (10, 2)\n"
     ]
    }
   ],
   "source": [
    "# (10,) -> (10,2)\n",
    "\n",
    "# relation b/w  h/v/dstack and their Transposes\n",
    "print(\"concatenate\", np.concatenate((x,y)).shape)   #(20, )\n",
    "print(\"hstack\", np.hstack((x,y)).shape)             #(20,)\n",
    "\n",
    "print(\"vstack\", np.vstack((x,y)).shape)             #(2, 10)\n",
    "print(\"vstack.Transpose\", np.vstack((x,y)).T.shape) #(10, 2)\n",
    "\n",
    "print(\"dstack\", np.dstack((x,y)).shape)             #(1, 10, 2)\n",
    "print(\"dstack\", np.dstack((x,y))[0].shape)          #(10, 2)\n"
   ],
   "metadata": {
    "collapsed": false,
    "ExecuteTime": {
     "end_time": "2023-07-10T08:26:36.411642Z",
     "start_time": "2023-07-10T08:26:36.389041Z"
    }
   }
  },
  {
   "cell_type": "code",
   "execution_count": 35,
   "outputs": [
    {
     "name": "stdout",
     "output_type": "stream",
     "text": [
      "[[ 0 50]\n",
      " [ 5 55]\n",
      " [10 60]\n",
      " [15 65]\n",
      " [20 70]\n",
      " [25 75]\n",
      " [30 80]\n",
      " [35 85]\n",
      " [40 90]\n",
      " [45 95]]\n"
     ]
    }
   ],
   "source": [
    "data = np.vstack((x, y)).T\n",
    "\n",
    "print(data)"
   ],
   "metadata": {
    "collapsed": false,
    "ExecuteTime": {
     "end_time": "2023-07-10T08:14:26.009264Z",
     "start_time": "2023-07-10T08:14:25.938458Z"
    }
   }
  },
  {
   "cell_type": "code",
   "execution_count": 59,
   "outputs": [
    {
     "name": "stdout",
     "output_type": "stream",
     "text": [
      "row.0 [ 0 50]\n",
      "col.0 [ 0  5 10 15 20 25 30 35 40 45]\n"
     ]
    }
   ],
   "source": [
    "# take row and column\n",
    "# that ops makes (x,) shape.. even you slice the column, it ain't a column !!\n",
    "# due to dimension\n",
    "#original => (10,2), 2-d\n",
    "\n",
    "print(\"row.0\", data[0,:])         # take 1st row  (2,)\n",
    "print(\"col.0\", data[:,0])         # take 1st column  (10,0)"
   ],
   "metadata": {
    "collapsed": false,
    "ExecuteTime": {
     "end_time": "2023-07-10T08:27:12.582279Z",
     "start_time": "2023-07-10T08:27:12.571228Z"
    }
   }
  },
  {
   "cell_type": "code",
   "execution_count": 70,
   "outputs": [
    {
     "name": "stdout",
     "output_type": "stream",
     "text": [
      "x [ 0  5 10 15 20 25 30 35 40 45] (10,)\n",
      "y [50 55 60 65 70 75 80 85 90 95] (10,)\n",
      "x.reshaped (10, 1)\n",
      "x.reshaped\n",
      " [[ 0]\n",
      " [ 5]\n",
      " [10]\n",
      " [15]\n",
      " [20]\n",
      " [25]\n",
      " [30]\n",
      " [35]\n",
      " [40]\n",
      " [45]]\n"
     ]
    }
   ],
   "source": [
    "# so, separate x and y variables\n",
    "\n",
    "x = data[:, 0]   #(10,)\n",
    "y = data[:, 1]\n",
    "\n",
    "print(\"x\", x, x.shape)\n",
    "print(\"y\", y, y.shape)\n",
    "\n",
    "# reshape (10,) -> (10,1)\n",
    "# important for tensorflow input !\n",
    "x = np.reshape(x, (-1,1))\n",
    "\n",
    "print(\"x.reshaped\", x.shape)\n",
    "print(\"x.reshaped\\n\", x)"
   ],
   "metadata": {
    "collapsed": false,
    "ExecuteTime": {
     "end_time": "2023-07-10T08:34:49.945201Z",
     "start_time": "2023-07-10T08:34:49.936080Z"
    }
   }
  },
  {
   "cell_type": "code",
   "execution_count": null,
   "outputs": [],
   "source": [],
   "metadata": {
    "collapsed": false
   }
  }
 ],
 "metadata": {
  "kernelspec": {
   "display_name": "Python 3",
   "language": "python",
   "name": "python3"
  },
  "language_info": {
   "codemirror_mode": {
    "name": "ipython",
    "version": 2
   },
   "file_extension": ".py",
   "mimetype": "text/x-python",
   "name": "python",
   "nbconvert_exporter": "python",
   "pygments_lexer": "ipython2",
   "version": "2.7.6"
  }
 },
 "nbformat": 4,
 "nbformat_minor": 0
}
