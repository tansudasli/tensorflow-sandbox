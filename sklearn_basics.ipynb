{
 "cells": [
  {
   "cell_type": "markdown",
   "source": [
    "# sklearn - sk.datasets\n",
    "\n",
    "- load sklearn data as pandas X and y, and\n",
    "      - then combine X and y as dataframe\n",
    "      - so you can to use both for EDA and inside sklearn functions"
   ],
   "metadata": {
    "collapsed": false
   }
  },
  {
   "cell_type": "code",
   "execution_count": 20,
   "metadata": {
    "collapsed": true,
    "ExecuteTime": {
     "end_time": "2023-07-17T08:40:26.219731Z",
     "start_time": "2023-07-17T08:40:26.217031Z"
    }
   },
   "outputs": [],
   "source": [
    "import sklearn as sk\n",
    "\n",
    "# load_    to load sample data\n",
    "# make_    to generate synthetic data\n",
    "from sklearn.datasets import load_iris\n"
   ]
  },
  {
   "cell_type": "code",
   "execution_count": 22,
   "outputs": [
    {
     "name": "stdout",
     "output_type": "stream",
     "text": [
      "features ['sepal length (cm)', 'sepal width (cm)', 'petal length (cm)', 'petal width (cm)'] \n",
      "data [[5.1 3.5 1.4 0.2]\n",
      " [4.9 3.  1.4 0.2]\n",
      " [4.7 3.2 1.3 0.2]\n",
      " [4.6 3.1 1.5 0.2]\n",
      " [5.  3.6 1.4 0.2]]\n"
     ]
    }
   ],
   "source": [
    "# you can access sklearn dataset\n",
    "# 1- as bunch type (default), then use .get(\"\") method access as numpy array. splits X, y ...\n",
    "# 2- as pandas dataframe and data and target dataframes\n",
    "\n",
    "iris = load_iris()  # type(iris) => bunch data type\n",
    "\n",
    "# so access data (numpy 2-d matrix), target (numpy 1-d array), feature_names, target_names..\n",
    "print(\"features\", iris.get(\"feature_names\"),  # numpy 1-d array\n",
    "      \"\\ndata\", iris.get(\"data\")[0:5])        # numpy 2-d array"
   ],
   "metadata": {
    "collapsed": false,
    "ExecuteTime": {
     "end_time": "2023-07-17T08:45:21.372102Z",
     "start_time": "2023-07-17T08:45:21.360268Z"
    }
   }
  },
  {
   "cell_type": "markdown",
   "source": [
    "## visualize"
   ],
   "metadata": {
    "collapsed": false
   }
  },
  {
   "cell_type": "code",
   "execution_count": null,
   "outputs": [],
   "source": [],
   "metadata": {
    "collapsed": false
   }
  }
 ],
 "metadata": {
  "kernelspec": {
   "display_name": "Python 3",
   "language": "python",
   "name": "python3"
  },
  "language_info": {
   "codemirror_mode": {
    "name": "ipython",
    "version": 2
   },
   "file_extension": ".py",
   "mimetype": "text/x-python",
   "name": "python",
   "nbconvert_exporter": "python",
   "pygments_lexer": "ipython2",
   "version": "2.7.6"
  }
 },
 "nbformat": 4,
 "nbformat_minor": 0
}
