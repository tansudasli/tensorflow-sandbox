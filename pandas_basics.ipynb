{
 "cells": [
  {
   "cell_type": "markdown",
   "source": [
    "# pandas\n",
    "- every column is kinda Series (1-d array)\n",
    "- dataframe is kinda tabular data (2-d matrix)\n",
    "- df.loc(0) row based access"
   ],
   "metadata": {
    "collapsed": false
   }
  },
  {
   "cell_type": "code",
   "execution_count": 1,
   "metadata": {
    "collapsed": true,
    "ExecuteTime": {
     "end_time": "2023-07-12T08:48:57.321876Z",
     "start_time": "2023-07-12T08:48:57.313579Z"
    }
   },
   "outputs": [],
   "source": [
    "import pandas as pd\n",
    "\n",
    "abaloneFile = \"./dataset/abalone_train.csv\""
   ]
  },
  {
   "cell_type": "markdown",
   "source": [
    "## get data (from file or manuel)"
   ],
   "metadata": {
    "collapsed": false
   }
  },
  {
   "cell_type": "code",
   "execution_count": 2,
   "outputs": [
    {
     "name": "stdout",
     "output_type": "stream",
     "text": [
      "   length  diameter  height  whole_weight  shucked_weight  viscera_weight  \\\n",
      "0   0.435     0.335   0.110         0.334          0.1355          0.0775   \n",
      "1   0.585     0.450   0.125         0.874          0.3545          0.2075   \n",
      "2   0.655     0.510   0.160         1.092          0.3960          0.2825   \n",
      "\n",
      "   shell_weight  age  \n",
      "0        0.0965    7  \n",
      "1        0.2250    6  \n",
      "2        0.3700   14  \n"
     ]
    }
   ],
   "source": [
    "dfAbalone = pd.read_csv(abaloneFile,\n",
    "                        names=[\"length\",\"diameter\", \"height\", \"whole_weight\", \"shucked_weight\", \"viscera_weight\", \"shell_weight\", \"age\"])\n",
    "\n",
    "# manuel\n",
    "# pd.DataFrame(data={\"length\": [0.435, 0.585, 0.655],\n",
    "#                    \"age\": [7, 6, 14]})\n",
    "\n",
    "\n",
    "print(dfAbalone.head(3))"
   ],
   "metadata": {
    "collapsed": false,
    "ExecuteTime": {
     "end_time": "2023-07-12T08:52:39.384532Z",
     "start_time": "2023-07-12T08:52:39.330294Z"
    }
   }
  },
  {
   "cell_type": "markdown",
   "source": [
    "## access"
   ],
   "metadata": {
    "collapsed": false
   }
  },
  {
   "cell_type": "code",
   "execution_count": 3,
   "outputs": [
    {
     "name": "stdout",
     "output_type": "stream",
     "text": [
      "[[ 0.435   0.335   0.11   ...  0.0775  0.0965  7.    ]\n",
      " [ 0.585   0.45    0.125  ...  0.2075  0.225   6.    ]\n",
      " [ 0.655   0.51    0.16   ...  0.2825  0.37   14.    ]\n",
      " ...\n",
      " [ 0.53    0.42    0.13   ...  0.167   0.249  11.    ]\n",
      " [ 0.395   0.315   0.105  ...  0.091   0.1195 16.    ]\n",
      " [ 0.45    0.355   0.12   ...  0.0665  0.16   19.    ]]\n",
      "<class 'numpy.ndarray'>\n"
     ]
    }
   ],
   "source": [
    "# access\n",
    "# pandas to numpy array !\n",
    "\n",
    "print(dfAbalone.values)\n",
    "print(type(dfAbalone.values))"
   ],
   "metadata": {
    "collapsed": false,
    "ExecuteTime": {
     "end_time": "2023-07-12T08:52:42.709119Z",
     "start_time": "2023-07-12T08:52:42.643937Z"
    }
   }
  },
  {
   "cell_type": "code",
   "execution_count": 4,
   "outputs": [
    {
     "name": "stdout",
     "output_type": "stream",
     "text": [
      "0     7\n",
      "1     6\n",
      "2    14\n",
      "3    16\n",
      "4    13\n",
      "5    10\n",
      "6    10\n",
      "7    10\n",
      "8     8\n",
      "9     8\n",
      "Name: age, dtype: int64\n"
     ]
    }
   ],
   "source": [
    "# every column is kinda Series (array)\n",
    "# dataframe is kinda tabular data or 2-d matrix\n",
    "\n",
    "print(dfAbalone.age[0:10])"
   ],
   "metadata": {
    "collapsed": false,
    "ExecuteTime": {
     "end_time": "2023-07-12T08:52:46.620323Z",
     "start_time": "2023-07-12T08:52:46.571990Z"
    }
   }
  },
  {
   "cell_type": "code",
   "execution_count": 32,
   "outputs": [
    {
     "name": "stdout",
     "output_type": "stream",
     "text": [
      "   length  diameter  height  whole_weight  shucked_weight  viscera_weight  \\\n",
      "0   0.435     0.335   0.110         0.334          0.1355          0.0775   \n",
      "1   0.585     0.450   0.125         0.874          0.3545          0.2075   \n",
      "\n",
      "   shell_weight  age  \n",
      "0        0.0965    7  \n",
      "1        0.2250    6  \n"
     ]
    }
   ],
   "source": [
    "# index and label based access\n",
    "\n",
    "print(dfAbalone.loc[0:1])\n",
    "# print(type(dfAbalone.loc[0]))  #series= 1d array\n"
   ],
   "metadata": {
    "collapsed": false,
    "ExecuteTime": {
     "end_time": "2023-07-14T21:25:20.125531Z",
     "start_time": "2023-07-14T21:25:20.113772Z"
    }
   }
  },
  {
   "cell_type": "code",
   "execution_count": 48,
   "outputs": [
    {
     "name": "stdout",
     "output_type": "stream",
     "text": [
      "   length  diameter  height  whole_weight  shucked_weight  viscera_weight  \\\n",
      "0   0.435     0.335   0.110         0.334          0.1355          0.0775   \n",
      "2   0.655     0.510   0.160         1.092          0.3960          0.2825   \n",
      "4   0.545     0.420   0.130         0.879          0.3740          0.1695   \n",
      "6   0.470     0.360   0.130         0.472          0.1820          0.1140   \n",
      "8   0.520     0.425   0.125         0.790          0.3720          0.2050   \n",
      "\n",
      "   shell_weight  age  \n",
      "0        0.0965    7  \n",
      "2        0.3700   14  \n",
      "4        0.2300   13  \n",
      "6        0.1500   10  \n",
      "8        0.1900    8  \n"
     ]
    }
   ],
   "source": [
    "# index based access\n",
    "\n",
    "print(dfAbalone.iloc[lambda x: x.index % 2 == 0].head())"
   ],
   "metadata": {
    "collapsed": false,
    "ExecuteTime": {
     "end_time": "2023-07-14T21:34:19.283139Z",
     "start_time": "2023-07-14T21:34:19.267866Z"
    }
   }
  },
  {
   "cell_type": "code",
   "execution_count": 35,
   "outputs": [
    {
     "name": "stdout",
     "output_type": "stream",
     "text": [
      "   length  diameter\n",
      "0   0.435     0.335\n",
      "1   0.585     0.450\n"
     ]
    }
   ],
   "source": [
    "#row and column based-index access\n",
    "\n",
    "print(dfAbalone.iloc[:2, 0:2])"
   ],
   "metadata": {
    "collapsed": false,
    "ExecuteTime": {
     "end_time": "2023-07-14T21:25:33.096665Z",
     "start_time": "2023-07-14T21:25:33.087921Z"
    }
   }
  },
  {
   "cell_type": "markdown",
   "source": [
    "## filtering"
   ],
   "metadata": {
    "collapsed": false
   }
  },
  {
   "cell_type": "code",
   "execution_count": 30,
   "outputs": [
    {
     "name": "stdout",
     "output_type": "stream",
     "text": [
      "    length  diameter  height  whole_weight  shucked_weight  viscera_weight  \\\n",
      "19   0.720     0.575   0.230        2.2695          0.8835          0.3985   \n",
      "21   0.725     0.575   0.240        2.2100          1.3510          0.4130   \n",
      "87   0.775     0.630   0.250        2.7795          1.3485          0.7600   \n",
      "93   0.710     0.575   0.215        2.0090          0.9895          0.4475   \n",
      "97   0.750     0.555   0.215        2.2010          1.0615          0.5235   \n",
      "\n",
      "    shell_weight  age  \n",
      "19        0.6650   16  \n",
      "21        0.5015   13  \n",
      "87        0.5780   12  \n",
      "93        0.5020   11  \n",
      "97        0.5285   11  \n"
     ]
    }
   ],
   "source": [
    "# row based or column based\n",
    "# value based !!!\n",
    "\n",
    "dfAbaloneAgeGT10AndLengthGT07 = dfAbalone[(dfAbalone.age > 10) & (dfAbalone.length > 0.7)]\n",
    "\n",
    "print(dfAbaloneAgeGT10AndLengthGT07.head())\n"
   ],
   "metadata": {
    "collapsed": false,
    "ExecuteTime": {
     "end_time": "2023-07-14T21:23:12.294516Z",
     "start_time": "2023-07-14T21:23:12.286140Z"
    }
   }
  },
  {
   "cell_type": "code",
   "execution_count": null,
   "outputs": [],
   "source": [],
   "metadata": {
    "collapsed": false
   }
  }
 ],
 "metadata": {
  "kernelspec": {
   "display_name": "Python 3",
   "language": "python",
   "name": "python3"
  },
  "language_info": {
   "codemirror_mode": {
    "name": "ipython",
    "version": 2
   },
   "file_extension": ".py",
   "mimetype": "text/x-python",
   "name": "python",
   "nbconvert_exporter": "python",
   "pygments_lexer": "ipython2",
   "version": "2.7.6"
  }
 },
 "nbformat": 4,
 "nbformat_minor": 0
}
