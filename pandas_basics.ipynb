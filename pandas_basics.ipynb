{
 "cells": [
  {
   "cell_type": "markdown",
   "source": [
    "# pandas\n",
    "- every column is kinda Series (1-d array)\n",
    "- dataframe is kinda tabular data (2-d matrix)\n",
    "- df.loc(0) row based access"
   ],
   "metadata": {
    "collapsed": false
   }
  },
  {
   "cell_type": "code",
   "execution_count": 1,
   "metadata": {
    "collapsed": true,
    "ExecuteTime": {
     "end_time": "2023-07-12T08:48:57.321876Z",
     "start_time": "2023-07-12T08:48:57.313579Z"
    }
   },
   "outputs": [],
   "source": [
    "import pandas as pd\n",
    "\n",
    "abaloneFile = \"./dataset/abalone_train.csv\""
   ]
  },
  {
   "cell_type": "markdown",
   "source": [
    "## get data (from file or manuel)"
   ],
   "metadata": {
    "collapsed": false
   }
  },
  {
   "cell_type": "code",
   "execution_count": 2,
   "outputs": [
    {
     "name": "stdout",
     "output_type": "stream",
     "text": [
      "   length  diameter  height  whole_weight  shucked_weight  viscera_weight  \\\n",
      "0   0.435     0.335   0.110         0.334          0.1355          0.0775   \n",
      "1   0.585     0.450   0.125         0.874          0.3545          0.2075   \n",
      "2   0.655     0.510   0.160         1.092          0.3960          0.2825   \n",
      "\n",
      "   shell_weight  age  \n",
      "0        0.0965    7  \n",
      "1        0.2250    6  \n",
      "2        0.3700   14  \n"
     ]
    }
   ],
   "source": [
    "dfAbalone = pd.read_csv(abaloneFile,\n",
    "                        names=[\"length\",\"diameter\", \"height\", \"whole_weight\", \"shucked_weight\", \"viscera_weight\", \"shell_weight\", \"age\"])\n",
    "\n",
    "# manuel\n",
    "# pd.DataFrame(data={\"length\": [0.435, 0.585, 0.655],\n",
    "#                    \"age\": [7, 6, 14]})\n",
    "\n",
    "\n",
    "print(dfAbalone.head(3))"
   ],
   "metadata": {
    "collapsed": false,
    "ExecuteTime": {
     "end_time": "2023-07-12T08:52:39.384532Z",
     "start_time": "2023-07-12T08:52:39.330294Z"
    }
   }
  },
  {
   "cell_type": "markdown",
   "source": [
    "## access"
   ],
   "metadata": {
    "collapsed": false
   }
  },
  {
   "cell_type": "code",
   "execution_count": 3,
   "outputs": [
    {
     "name": "stdout",
     "output_type": "stream",
     "text": [
      "[[ 0.435   0.335   0.11   ...  0.0775  0.0965  7.    ]\n",
      " [ 0.585   0.45    0.125  ...  0.2075  0.225   6.    ]\n",
      " [ 0.655   0.51    0.16   ...  0.2825  0.37   14.    ]\n",
      " ...\n",
      " [ 0.53    0.42    0.13   ...  0.167   0.249  11.    ]\n",
      " [ 0.395   0.315   0.105  ...  0.091   0.1195 16.    ]\n",
      " [ 0.45    0.355   0.12   ...  0.0665  0.16   19.    ]]\n",
      "<class 'numpy.ndarray'>\n"
     ]
    }
   ],
   "source": [
    "# access\n",
    "# pandas to numpy array !\n",
    "\n",
    "print(dfAbalone.values)\n",
    "print(type(dfAbalone.values))"
   ],
   "metadata": {
    "collapsed": false,
    "ExecuteTime": {
     "end_time": "2023-07-12T08:52:42.709119Z",
     "start_time": "2023-07-12T08:52:42.643937Z"
    }
   }
  },
  {
   "cell_type": "code",
   "execution_count": 4,
   "outputs": [
    {
     "name": "stdout",
     "output_type": "stream",
     "text": [
      "0     7\n",
      "1     6\n",
      "2    14\n",
      "3    16\n",
      "4    13\n",
      "5    10\n",
      "6    10\n",
      "7    10\n",
      "8     8\n",
      "9     8\n",
      "Name: age, dtype: int64\n"
     ]
    }
   ],
   "source": [
    "# every column is kinda Series (array)\n",
    "# dataframe is kinda tabular data or 2-d matrix\n",
    "\n",
    "print(dfAbalone.age[0:10])"
   ],
   "metadata": {
    "collapsed": false,
    "ExecuteTime": {
     "end_time": "2023-07-12T08:52:46.620323Z",
     "start_time": "2023-07-12T08:52:46.571990Z"
    }
   }
  },
  {
   "cell_type": "code",
   "execution_count": 11,
   "outputs": [
    {
     "name": "stdout",
     "output_type": "stream",
     "text": [
      "length            0.4350\n",
      "diameter          0.3350\n",
      "height            0.1100\n",
      "whole_weight      0.3340\n",
      "shucked_weight    0.1355\n",
      "viscera_weight    0.0775\n",
      "shell_weight      0.0965\n",
      "age               7.0000\n",
      "Name: 0, dtype: float64\n",
      "<class 'pandas.core.series.Series'>\n"
     ]
    }
   ],
   "source": [
    "#row based access\n",
    "\n",
    "print(dfAbalone.loc[0])\n",
    "print(type(dfAbalone.loc[0]))  #series= 1d array\n"
   ],
   "metadata": {
    "collapsed": false,
    "ExecuteTime": {
     "end_time": "2023-07-12T09:01:05.011502Z",
     "start_time": "2023-07-12T09:01:04.999943Z"
    }
   }
  },
  {
   "cell_type": "code",
   "execution_count": null,
   "outputs": [],
   "source": [],
   "metadata": {
    "collapsed": false
   }
  }
 ],
 "metadata": {
  "kernelspec": {
   "display_name": "Python 3",
   "language": "python",
   "name": "python3"
  },
  "language_info": {
   "codemirror_mode": {
    "name": "ipython",
    "version": 2
   },
   "file_extension": ".py",
   "mimetype": "text/x-python",
   "name": "python",
   "nbconvert_exporter": "python",
   "pygments_lexer": "ipython2",
   "version": "2.7.6"
  }
 },
 "nbformat": 4,
 "nbformat_minor": 0
}
