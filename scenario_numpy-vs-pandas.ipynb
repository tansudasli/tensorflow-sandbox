{
 "cells": [
  {
   "cell_type": "markdown",
   "source": [
    "# numpy vs pandas\n",
    "\n",
    "- numpy is matrix type and numeric calculations\n",
    "- pandas is dataframe, suitable for _standalone_ data analysis"
   ],
   "metadata": {
    "collapsed": false
   }
  },
  {
   "cell_type": "code",
   "execution_count": 2,
   "metadata": {
    "collapsed": true,
    "ExecuteTime": {
     "end_time": "2023-07-11T13:09:14.274086Z",
     "start_time": "2023-07-11T13:09:14.266817Z"
    }
   },
   "outputs": [],
   "source": [
    "import pandas as pd\n",
    "import numpy as np"
   ]
  },
  {
   "cell_type": "code",
   "execution_count": 55,
   "outputs": [
    {
     "name": "stdout",
     "output_type": "stream",
     "text": [
      "[['ali', 10.0, 'Male'], ['veli', 20.0, 'Male'], ['keli', 30.0, 'Female']] <class 'list'>\n"
     ]
    }
   ],
   "source": [
    "# list : python standard\n",
    "\n",
    "people = [[\"ali\", 10.0, \"Male\"],\n",
    "          [\"veli\", 20.0, \"Male\"],\n",
    "          [\"keli\", 30.0, \"Female\"]]\n",
    "\n",
    "print(people, type(people))\n"
   ],
   "metadata": {
    "collapsed": false,
    "ExecuteTime": {
     "end_time": "2023-07-11T13:29:35.988719Z",
     "start_time": "2023-07-11T13:29:35.981365Z"
    }
   }
  },
  {
   "cell_type": "code",
   "execution_count": 61,
   "outputs": [
    {
     "name": "stdout",
     "output_type": "stream",
     "text": [
      "[['ali' '10.0' 'Male']\n",
      " ['veli' '20.0' 'Male']\n",
      " ['keli' '30.0' 'Female']] <class 'numpy.ndarray'>\n"
     ]
    }
   ],
   "source": [
    "# numpy - matrix\n",
    "people = np.array(people)\n",
    "\n",
    "print(people, type(people))"
   ],
   "metadata": {
    "collapsed": false,
    "ExecuteTime": {
     "end_time": "2023-07-11T13:31:40.535630Z",
     "start_time": "2023-07-11T13:31:40.519715Z"
    }
   }
  },
  {
   "cell_type": "code",
   "execution_count": 64,
   "outputs": [
    {
     "name": "stdout",
     "output_type": "stream",
     "text": [
      "   name   age  gender\n",
      "0   ali  10.0    Male\n",
      "1  veli  20.0    Male\n",
      "2  keli  30.0  Female <class 'pandas.core.frame.DataFrame'>\n"
     ]
    }
   ],
   "source": [
    "# pandas - dataframe\n",
    "people = pd.DataFrame(data=people,\n",
    "                      columns=[\"name\", \"age\", \"gender\"])\n",
    "\n",
    "print(people, type(people))"
   ],
   "metadata": {
    "collapsed": false,
    "ExecuteTime": {
     "end_time": "2023-07-11T13:40:08.329310Z",
     "start_time": "2023-07-11T13:40:08.320908Z"
    }
   }
  },
  {
   "cell_type": "code",
   "execution_count": 70,
   "outputs": [
    {
     "name": "stdout",
     "output_type": "stream",
     "text": [
      "0    10.0\n",
      "1    20.0\n",
      "2    30.0\n",
      "Name: age, dtype: object\n",
      "0    10.0\n",
      "1    20.0\n",
      "2    30.0\n",
      "Name: age, dtype: object\n"
     ]
    }
   ],
   "source": [
    "# numpy - index based access\n",
    "# pandas -  column/field base access\n",
    "print(people[\"age\"])\n",
    "print(people.age)"
   ],
   "metadata": {
    "collapsed": false,
    "ExecuteTime": {
     "end_time": "2023-07-11T13:41:58.397243Z",
     "start_time": "2023-07-11T13:41:58.390122Z"
    }
   }
  },
  {
   "cell_type": "code",
   "execution_count": 71,
   "outputs": [
    {
     "name": "stdout",
     "output_type": "stream",
     "text": [
      "[['ali' '10.0' 'Male']\n",
      " ['veli' '20.0' 'Male']\n",
      " ['keli' '30.0' 'Female']]\n"
     ]
    }
   ],
   "source": [
    "# pandas to numpy\n",
    "\n",
    "print(people.to_numpy())"
   ],
   "metadata": {
    "collapsed": false,
    "ExecuteTime": {
     "end_time": "2023-07-11T13:44:50.706053Z",
     "start_time": "2023-07-11T13:44:50.643409Z"
    }
   }
  },
  {
   "cell_type": "code",
   "execution_count": null,
   "outputs": [],
   "source": [],
   "metadata": {
    "collapsed": false
   }
  }
 ],
 "metadata": {
  "kernelspec": {
   "display_name": "Python 3",
   "language": "python",
   "name": "python3"
  },
  "language_info": {
   "codemirror_mode": {
    "name": "ipython",
    "version": 2
   },
   "file_extension": ".py",
   "mimetype": "text/x-python",
   "name": "python",
   "nbconvert_exporter": "python",
   "pygments_lexer": "ipython2",
   "version": "2.7.6"
  }
 },
 "nbformat": 4,
 "nbformat_minor": 0
}
