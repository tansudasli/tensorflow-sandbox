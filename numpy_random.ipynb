{
 "cells": [
  {
   "cell_type": "markdown",
   "source": [
    "## numpy basics  _random_"
   ],
   "metadata": {
    "collapsed": false
   }
  },
  {
   "cell_type": "code",
   "execution_count": 1,
   "metadata": {
    "collapsed": true,
    "ExecuteTime": {
     "end_time": "2023-07-05T09:50:53.611891Z",
     "start_time": "2023-07-05T09:50:53.177664Z"
    }
   },
   "outputs": [],
   "source": [
    "from numpy import random\n"
   ]
  },
  {
   "cell_type": "code",
   "execution_count": 26,
   "outputs": [
    {
     "name": "stdout",
     "output_type": "stream",
     "text": [
      "[9 2 4 7 4 9 4 7 7 7]\n",
      "[[3 9 7]\n",
      " [9 6 3]\n",
      " [5 8 2]\n",
      " [5 8 8]\n",
      " [1 4 2]]\n"
     ]
    }
   ],
   "source": [
    "i = random.randint(0, 10, size=10)    # int, b/w 0 to 10, 100 integer random number\n",
    "i2 = random.randint(0, 10, size=(5, 3)) # 2d array\n",
    "\n",
    "print(i)\n",
    "print(i2)"
   ],
   "metadata": {
    "collapsed": false,
    "ExecuteTime": {
     "end_time": "2023-07-05T10:01:22.418916Z",
     "start_time": "2023-07-05T10:01:22.408811Z"
    }
   }
  },
  {
   "cell_type": "code",
   "execution_count": 34,
   "outputs": [
    {
     "name": "stdout",
     "output_type": "stream",
     "text": [
      "[0.77019296 0.35277896 0.07771439 0.60381557]\n",
      "[[0.56257314 0.67657711 0.59985862]\n",
      " [0.83137285 0.3964514  0.89692894]\n",
      " [0.94247813 0.8496094  0.96413275]]\n",
      "[[[0.94903107 0.39567895 0.0083502 ]\n",
      "  [0.46140246 0.75542094 0.01910521]]]\n"
     ]
    }
   ],
   "source": [
    "f = random.random(size=4)            # float b/w 0 to 1, and 100 random number\n",
    "f2 = random.random(size=(3, 3))      # 2d\n",
    "f3 = random.random(size=(1, 2, 3))   # 3d\n",
    "\n",
    "print(f)\n",
    "print(f2)\n",
    "print(f3)"
   ],
   "metadata": {
    "collapsed": false,
    "ExecuteTime": {
     "end_time": "2023-07-05T10:04:06.796625Z",
     "start_time": "2023-07-05T10:04:06.788558Z"
    }
   }
  },
  {
   "cell_type": "code",
   "execution_count": 35,
   "outputs": [
    {
     "name": "stdout",
     "output_type": "stream",
     "text": [
      "[[4 3]\n",
      " [5 5]]\n"
     ]
    }
   ],
   "source": [
    "k = random.choice([3, 4, 5], size=(2,2))\n",
    "\n",
    "print(k)"
   ],
   "metadata": {
    "collapsed": false,
    "ExecuteTime": {
     "end_time": "2023-07-05T10:05:24.703590Z",
     "start_time": "2023-07-05T10:05:24.681023Z"
    }
   }
  },
  {
   "cell_type": "code",
   "execution_count": null,
   "outputs": [],
   "source": [],
   "metadata": {
    "collapsed": false
   }
  }
 ],
 "metadata": {
  "kernelspec": {
   "display_name": "Python 3",
   "language": "python",
   "name": "python3"
  },
  "language_info": {
   "codemirror_mode": {
    "name": "ipython",
    "version": 2
   },
   "file_extension": ".py",
   "mimetype": "text/x-python",
   "name": "python",
   "nbconvert_exporter": "python",
   "pygments_lexer": "ipython2",
   "version": "2.7.6"
  }
 },
 "nbformat": 4,
 "nbformat_minor": 0
}
