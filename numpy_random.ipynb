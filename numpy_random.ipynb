{
 "cells": [
  {
   "cell_type": "markdown",
   "source": [
    "## numpy basics  _random_\n",
    "\n",
    "- use random generators\n",
    "- then, use random/integers/choice or distributions !"
   ],
   "metadata": {
    "collapsed": false
   }
  },
  {
   "cell_type": "code",
   "execution_count": 43,
   "metadata": {
    "collapsed": true,
    "ExecuteTime": {
     "end_time": "2023-07-05T12:29:58.038661Z",
     "start_time": "2023-07-05T12:29:58.030907Z"
    }
   },
   "outputs": [],
   "source": [
    "import numpy as np\n"
   ]
  },
  {
   "cell_type": "code",
   "execution_count": 46,
   "outputs": [
    {
     "name": "stdout",
     "output_type": "stream",
     "text": [
      "[7 8 1 5 0 2 4 0 5 9]\n",
      "[[7 8 1]\n",
      " [5 0 2]\n",
      " [4 0 5]\n",
      " [9 9 5]\n",
      " [4 7 9]]\n"
     ]
    }
   ],
   "source": [
    "# leverage generators.\n",
    "# np.random.... is the old style!!\n",
    "\n",
    "# i = random.randint(0, 10, size=10)    # old way\n",
    "i = np.random.default_rng(100).integers(low=0, high=10, size=10)\n",
    "i2 = np.random.default_rng(100).integers(0, 10, size=(5, 3)) # 2d array\n",
    "\n",
    "print(i)\n",
    "print(i2)"
   ],
   "metadata": {
    "collapsed": false,
    "ExecuteTime": {
     "end_time": "2023-07-05T12:34:05.240991Z",
     "start_time": "2023-07-05T12:34:05.214702Z"
    }
   }
  },
  {
   "cell_type": "code",
   "execution_count": 50,
   "outputs": [
    {
     "name": "stdout",
     "output_type": "stream",
     "text": [
      "[0.83498163 0.59655403 0.28886324 0.04295157]\n"
     ]
    }
   ],
   "source": [
    "f = np.random.default_rng(100).random(size=4)            # float b/w 0 to 1, and 100 random number\n",
    "# f2 = np.random.default_rng(100).random(size=(3, 3))      # 2d\n",
    "# f3 = np.random.default_rng(100).random(size=(1, 2, 3))   # 3d\n",
    "\n",
    "print(f)"
   ],
   "metadata": {
    "collapsed": false,
    "ExecuteTime": {
     "end_time": "2023-07-05T12:40:36.859086Z",
     "start_time": "2023-07-05T12:40:36.851929Z"
    }
   }
  },
  {
   "cell_type": "code",
   "execution_count": 52,
   "outputs": [
    {
     "name": "stdout",
     "output_type": "stream",
     "text": [
      "[[7 8]\n",
      " [4 4]]\n"
     ]
    }
   ],
   "source": [
    "k = np.random.default_rng(10).choice([3, 4, 5, 6, 7, 8], size=(2,2))\n",
    "\n",
    "print(k)"
   ],
   "metadata": {
    "collapsed": false,
    "ExecuteTime": {
     "end_time": "2023-07-05T12:40:55.355397Z",
     "start_time": "2023-07-05T12:40:55.346506Z"
    }
   }
  },
  {
   "cell_type": "code",
   "execution_count": 72,
   "outputs": [
    {
     "data": {
      "text/plain": "[6, 3, 1, 5, 2, 4]"
     },
     "execution_count": 72,
     "metadata": {},
     "output_type": "execute_result"
    }
   ],
   "source": [
    "# shuffle\n",
    "# changes the original array !\n",
    "x = [1, 2, 3, 4, 5, 6]\n",
    "\n",
    "np.random.default_rng(seed=7).shuffle(x, axis=0)\n",
    "#seed, guarantees the result won't change after a shuffle !\n",
    "\n",
    "x"
   ],
   "metadata": {
    "collapsed": false,
    "ExecuteTime": {
     "end_time": "2023-07-06T09:58:09.949999Z",
     "start_time": "2023-07-06T09:58:09.938158Z"
    }
   }
  },
  {
   "cell_type": "code",
   "execution_count": 74,
   "outputs": [
    {
     "data": {
      "text/plain": "array([3, 2, 1, 5, 4, 6])"
     },
     "execution_count": 74,
     "metadata": {},
     "output_type": "execute_result"
    }
   ],
   "source": [
    "# permutation\n",
    "# returns a new array\n",
    "\n",
    "z = np.random.default_rng(5).permutation(x, axis=0)\n",
    "\n",
    "z"
   ],
   "metadata": {
    "collapsed": false,
    "ExecuteTime": {
     "end_time": "2023-07-06T09:58:53.199790Z",
     "start_time": "2023-07-06T09:58:53.183273Z"
    }
   }
  },
  {
   "cell_type": "code",
   "execution_count": null,
   "outputs": [],
   "source": [],
   "metadata": {
    "collapsed": false
   }
  }
 ],
 "metadata": {
  "kernelspec": {
   "display_name": "Python 3",
   "language": "python",
   "name": "python3"
  },
  "language_info": {
   "codemirror_mode": {
    "name": "ipython",
    "version": 2
   },
   "file_extension": ".py",
   "mimetype": "text/x-python",
   "name": "python",
   "nbconvert_exporter": "python",
   "pygments_lexer": "ipython2",
   "version": "2.7.6"
  }
 },
 "nbformat": 4,
 "nbformat_minor": 0
}
