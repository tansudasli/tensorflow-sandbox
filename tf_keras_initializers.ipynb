{
 "cells": [
  {
   "cell_type": "markdown",
   "source": [
    "# tf - initializers\n",
    "\n",
    "- .Zeros\n",
    "- .Ones\n",
    "- .Constant\n",
    "- .RandomNormal"
   ],
   "metadata": {
    "collapsed": false
   },
   "id": "c7f12e85ad009f36"
  },
  {
   "cell_type": "code",
   "execution_count": null,
   "id": "initial_id",
   "metadata": {
    "collapsed": true
   },
   "outputs": [],
   "source": []
  }
 ],
 "metadata": {
  "kernelspec": {
   "display_name": "Python 3",
   "language": "python",
   "name": "python3"
  },
  "language_info": {
   "codemirror_mode": {
    "name": "ipython",
    "version": 2
   },
   "file_extension": ".py",
   "mimetype": "text/x-python",
   "name": "python",
   "nbconvert_exporter": "python",
   "pygments_lexer": "ipython2",
   "version": "2.7.6"
  }
 },
 "nbformat": 4,
 "nbformat_minor": 5
}
