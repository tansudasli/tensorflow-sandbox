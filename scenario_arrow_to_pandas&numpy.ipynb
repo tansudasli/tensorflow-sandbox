{
 "cells": [
  {
   "cell_type": "markdown",
   "source": [
    "# apache arrow transformations\n",
    "\n",
    "- read from csv -> arrow.Table\n",
    "- arrow.Table -> pandas DataFrame\n",
    "- pandas -> numpy array"
   ],
   "metadata": {
    "collapsed": false
   }
  },
  {
   "cell_type": "code",
   "execution_count": 2,
   "metadata": {
    "collapsed": true,
    "ExecuteTime": {
     "end_time": "2023-07-11T19:36:03.454511Z",
     "start_time": "2023-07-11T19:36:02.431927Z"
    }
   },
   "outputs": [],
   "source": [
    "import pyarrow as pa\n",
    "import pyarrow.csv as csv\n",
    "import pandas as pd\n",
    "\n",
    "# pa.cpu_count = 2\n",
    "abalone_file = \"./dataset/abalone_train.csv\""
   ]
  },
  {
   "cell_type": "code",
   "execution_count": 3,
   "outputs": [
    {
     "data": {
      "text/plain": "pyarrow.Table\nlength: double\ndiameter: double\nheight: double\nwhole_weight: double\nshucked_weight: double\nviscera_weight: double\nshell_weight: double\nage: int64\n----\nlength: [[0.435,0.585,0.655,0.545,0.545,...,0.605,0.7,0.53,0.395,0.45]]\ndiameter: [[0.335,0.45,0.51,0.425,0.42,...,0.475,0.525,0.42,0.315,0.355]]\nheight: [[0.11,0.125,0.16,0.125,0.13,...,0.18,0.19,0.13,0.105,0.12]]\nwhole_weight: [[0.334,0.874,1.092,0.768,0.879,...,0.9365,1.6015,0.8365,0.3515,0.412]]\nshucked_weight: [[0.1355,0.3545,0.396,0.294,0.374,...,0.394,0.707,0.3745,0.1185,0.1145]]\nviscera_weight: [[0.0775,0.2075,0.2825,0.1495,0.1695,...,0.219,0.365,0.167,0.091,0.0665]]\nshell_weight: [[0.0965,0.225,0.37,0.26,0.23,...,0.295,0.43,0.249,0.1195,0.16]]\nage: [[7,6,14,16,13,...,15,10,11,16,19]]"
     },
     "execution_count": 3,
     "metadata": {},
     "output_type": "execute_result"
    }
   ],
   "source": [
    "abalone = csv.read_csv(abalone_file,\n",
    "                       read_options=csv.ReadOptions(\n",
    "                           column_names=[\"length\",\"diameter\", \"height\", \"whole_weight\", \"shucked_weight\", \"viscera_weight\", \"shell_weight\", \"age\"],\n",
    "                           use_threads=True\n",
    "                       ) )\n",
    "\n",
    "abalone"
   ],
   "metadata": {
    "collapsed": false,
    "ExecuteTime": {
     "end_time": "2023-07-11T19:36:03.504478Z",
     "start_time": "2023-07-11T19:36:03.459574Z"
    }
   }
  },
  {
   "cell_type": "code",
   "execution_count": 4,
   "outputs": [
    {
     "data": {
      "text/plain": "                     0       1\nlength          0.4350  0.5850\ndiameter        0.3350  0.4500\nheight          0.1100  0.1250\nwhole_weight    0.3340  0.8740\nshucked_weight  0.1355  0.3545\nviscera_weight  0.0775  0.2075\nshell_weight    0.0965  0.2250\nage             7.0000  6.0000",
      "text/html": "<div>\n<style scoped>\n    .dataframe tbody tr th:only-of-type {\n        vertical-align: middle;\n    }\n\n    .dataframe tbody tr th {\n        vertical-align: top;\n    }\n\n    .dataframe thead th {\n        text-align: right;\n    }\n</style>\n<table border=\"1\" class=\"dataframe\">\n  <thead>\n    <tr style=\"text-align: right;\">\n      <th></th>\n      <th>0</th>\n      <th>1</th>\n    </tr>\n  </thead>\n  <tbody>\n    <tr>\n      <th>length</th>\n      <td>0.4350</td>\n      <td>0.5850</td>\n    </tr>\n    <tr>\n      <th>diameter</th>\n      <td>0.3350</td>\n      <td>0.4500</td>\n    </tr>\n    <tr>\n      <th>height</th>\n      <td>0.1100</td>\n      <td>0.1250</td>\n    </tr>\n    <tr>\n      <th>whole_weight</th>\n      <td>0.3340</td>\n      <td>0.8740</td>\n    </tr>\n    <tr>\n      <th>shucked_weight</th>\n      <td>0.1355</td>\n      <td>0.3545</td>\n    </tr>\n    <tr>\n      <th>viscera_weight</th>\n      <td>0.0775</td>\n      <td>0.2075</td>\n    </tr>\n    <tr>\n      <th>shell_weight</th>\n      <td>0.0965</td>\n      <td>0.2250</td>\n    </tr>\n    <tr>\n      <th>age</th>\n      <td>7.0000</td>\n      <td>6.0000</td>\n    </tr>\n  </tbody>\n</table>\n</div>"
     },
     "execution_count": 4,
     "metadata": {},
     "output_type": "execute_result"
    }
   ],
   "source": [
    "# dfAbalone = abalone.to_pandas(split_blocks=True, self_destruct=True)\n",
    "dfAbalone = abalone.to_pandas()\n",
    "\n",
    "dfAbalone.head(2).transpose()"
   ],
   "metadata": {
    "collapsed": false,
    "ExecuteTime": {
     "end_time": "2023-07-11T19:36:06.623346Z",
     "start_time": "2023-07-11T19:36:06.589293Z"
    }
   }
  },
  {
   "cell_type": "code",
   "execution_count": 10,
   "outputs": [
    {
     "name": "stdout",
     "output_type": "stream",
     "text": [
      "[[ 0.435   0.335   0.11   ...  0.0775  0.0965  7.    ]\n",
      " [ 0.585   0.45    0.125  ...  0.2075  0.225   6.    ]\n",
      " [ 0.655   0.51    0.16   ...  0.2825  0.37   14.    ]\n",
      " ...\n",
      " [ 0.53    0.42    0.13   ...  0.167   0.249  11.    ]\n",
      " [ 0.395   0.315   0.105  ...  0.091   0.1195 16.    ]\n",
      " [ 0.45    0.355   0.12   ...  0.0665  0.16   19.    ]]\n"
     ]
    }
   ],
   "source": [
    "#arrow -> pandas -> numpy\n",
    "#for complex types\n",
    "\n",
    "npAbalone = dfAbalone.to_numpy()\n",
    "\n",
    "print(npAbalone)"
   ],
   "metadata": {
    "collapsed": false,
    "ExecuteTime": {
     "end_time": "2023-07-11T20:40:28.237821Z",
     "start_time": "2023-07-11T20:40:28.227547Z"
    }
   }
  },
  {
   "cell_type": "code",
   "execution_count": null,
   "outputs": [],
   "source": [],
   "metadata": {
    "collapsed": false
   }
  }
 ],
 "metadata": {
  "kernelspec": {
   "display_name": "Python 3",
   "language": "python",
   "name": "python3"
  },
  "language_info": {
   "codemirror_mode": {
    "name": "ipython",
    "version": 2
   },
   "file_extension": ".py",
   "mimetype": "text/x-python",
   "name": "python",
   "nbconvert_exporter": "python",
   "pygments_lexer": "ipython2",
   "version": "2.7.6"
  }
 },
 "nbformat": 4,
 "nbformat_minor": 0
}
