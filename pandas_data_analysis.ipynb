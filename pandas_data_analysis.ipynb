{
 "cells": [
  {
   "cell_type": "markdown",
   "source": [
    "# pandas - data analysis\n"
   ],
   "metadata": {
    "collapsed": false
   }
  },
  {
   "cell_type": "code",
   "execution_count": 3,
   "metadata": {
    "collapsed": true,
    "ExecuteTime": {
     "end_time": "2023-07-12T09:11:46.681881Z",
     "start_time": "2023-07-12T09:11:46.666730Z"
    }
   },
   "outputs": [],
   "source": [
    "import pandas as pd\n",
    "\n",
    "abaloneFile = \"./dataset/abalone.parquet\""
   ]
  },
  {
   "cell_type": "code",
   "execution_count": 8,
   "outputs": [
    {
     "data": {
      "text/plain": "   length  diameter  height  whole_weight  shucked_weight  viscera_weight  \\\n0   0.435     0.335   0.110         0.334          0.1355          0.0775   \n1   0.585     0.450   0.125         0.874          0.3545          0.2075   \n2   0.655     0.510   0.160         1.092          0.3960          0.2825   \n\n   shell_weight  age  \n0        0.0965    7  \n1        0.2250    6  \n2        0.3700   14  ",
      "text/html": "<div>\n<style scoped>\n    .dataframe tbody tr th:only-of-type {\n        vertical-align: middle;\n    }\n\n    .dataframe tbody tr th {\n        vertical-align: top;\n    }\n\n    .dataframe thead th {\n        text-align: right;\n    }\n</style>\n<table border=\"1\" class=\"dataframe\">\n  <thead>\n    <tr style=\"text-align: right;\">\n      <th></th>\n      <th>length</th>\n      <th>diameter</th>\n      <th>height</th>\n      <th>whole_weight</th>\n      <th>shucked_weight</th>\n      <th>viscera_weight</th>\n      <th>shell_weight</th>\n      <th>age</th>\n    </tr>\n  </thead>\n  <tbody>\n    <tr>\n      <th>0</th>\n      <td>0.435</td>\n      <td>0.335</td>\n      <td>0.110</td>\n      <td>0.334</td>\n      <td>0.1355</td>\n      <td>0.0775</td>\n      <td>0.0965</td>\n      <td>7</td>\n    </tr>\n    <tr>\n      <th>1</th>\n      <td>0.585</td>\n      <td>0.450</td>\n      <td>0.125</td>\n      <td>0.874</td>\n      <td>0.3545</td>\n      <td>0.2075</td>\n      <td>0.2250</td>\n      <td>6</td>\n    </tr>\n    <tr>\n      <th>2</th>\n      <td>0.655</td>\n      <td>0.510</td>\n      <td>0.160</td>\n      <td>1.092</td>\n      <td>0.3960</td>\n      <td>0.2825</td>\n      <td>0.3700</td>\n      <td>14</td>\n    </tr>\n  </tbody>\n</table>\n</div>"
     },
     "execution_count": 8,
     "metadata": {},
     "output_type": "execute_result"
    }
   ],
   "source": [
    "# read from parquet\n",
    "\n",
    "dfAbalone = pd.read_parquet(path=abaloneFile)\n",
    "\n",
    "dfAbalone.head(3)"
   ],
   "metadata": {
    "collapsed": false,
    "ExecuteTime": {
     "end_time": "2023-07-12T09:13:03.383798Z",
     "start_time": "2023-07-12T09:13:03.332732Z"
    }
   }
  },
  {
   "cell_type": "code",
   "execution_count": null,
   "outputs": [],
   "source": [],
   "metadata": {
    "collapsed": false
   }
  }
 ],
 "metadata": {
  "kernelspec": {
   "display_name": "Python 3",
   "language": "python",
   "name": "python3"
  },
  "language_info": {
   "codemirror_mode": {
    "name": "ipython",
    "version": 2
   },
   "file_extension": ".py",
   "mimetype": "text/x-python",
   "name": "python",
   "nbconvert_exporter": "python",
   "pygments_lexer": "ipython2",
   "version": "2.7.6"
  }
 },
 "nbformat": 4,
 "nbformat_minor": 0
}
