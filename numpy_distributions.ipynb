{
 "cells": [
  {
   "cell_type": "markdown",
   "source": [
    "# numpy basics _distributions_"
   ],
   "metadata": {
    "collapsed": false
   }
  },
  {
   "cell_type": "code",
   "execution_count": 64,
   "metadata": {
    "collapsed": true,
    "ExecuteTime": {
     "end_time": "2023-07-06T10:08:07.507035Z",
     "start_time": "2023-07-06T10:08:07.496423Z"
    }
   },
   "outputs": [],
   "source": [
    "import numpy as np\n",
    "\n",
    "import matplotlib.pyplot as plt\n",
    "import seaborn as sns"
   ]
  },
  {
   "cell_type": "code",
   "execution_count": 82,
   "outputs": [
    {
     "name": "stdout",
     "output_type": "stream",
     "text": [
      "[ 1.33992652  0.38621611 -0.84454703 -1.82819372  1.89461758  0.38588682\n",
      "  1.16105266  1.64135753  0.75261779 -1.24003411] ....\n"
     ]
    },
    {
     "data": {
      "text/plain": "<Figure size 200x200 with 1 Axes>",
      "image/png": "[encoded data removed]"
     },
     "metadata": {},
     "output_type": "display_data"
    }
   ],
   "source": [
    "# random[] by uniform distribution!\n",
    "x = np.random.default_rng(100).uniform(low=-2, high=2, size=1000)\n",
    "print(x[0:10], \"....\")\n",
    "\n",
    "#see distribution\n",
    "# plt.hist(x, range=(-1, 2))\n",
    "sns.displot(x, kind=\"hist\", height=2)\n",
    "plt.show()"
   ],
   "metadata": {
    "collapsed": false,
    "ExecuteTime": {
     "end_time": "2023-07-06T12:58:35.297719Z",
     "start_time": "2023-07-06T12:58:34.966920Z"
    }
   }
  },
  {
   "cell_type": "code",
   "execution_count": 83,
   "outputs": [
    {
     "name": "stdout",
     "output_type": "stream",
     "text": [
      "[6 2 6 2 4 2 5 6 4 6 6 3 5 5 6] ...\n"
     ]
    },
    {
     "data": {
      "text/plain": "<Figure size 200x200 with 1 Axes>",
      "image/png": "[encoded data removed]"
     },
     "metadata": {},
     "output_type": "display_data"
    }
   ],
   "source": [
    "#randoms by choice w/ different probabilities\n",
    "\n",
    "dice = np.random.default_rng(10).choice([1,2,3,4,5,6],\n",
    "                                        size=1000,\n",
    "                                        p=[0.1, 0.15, 0.15, 0.15, 0.25, 0.2])\n",
    "\n",
    "print(dice[0:15], \"...\")\n",
    "\n",
    "# plt.hist(dice, bins=6, range=[1,7])   #using matplotlib\n",
    "sns.displot(dice, height=2, kind='hist')\n",
    "plt.show()"
   ],
   "metadata": {
    "collapsed": false,
    "ExecuteTime": {
     "end_time": "2023-07-06T12:59:28.041170Z",
     "start_time": "2023-07-06T12:59:27.550147Z"
    }
   }
  },
  {
   "cell_type": "code",
   "execution_count": 95,
   "outputs": [
    {
     "name": "stdout",
     "output_type": "stream",
     "text": [
      "[-55.16692245 -36.25123201 -39.09026287  13.34879282 -12.42903647\n",
      "   6.32415258  42.15212854  42.89682747  23.7591821  -22.5384299 ] ...\n"
     ]
    },
    {
     "data": {
      "text/plain": "<Figure size 200x200 with 1 Axes>",
      "image/png": "[encoded data removed]"
     },
     "metadata": {},
     "output_type": "display_data"
    }
   ],
   "source": [
    "# normal distribution\n",
    "\n",
    "scores = np.random.default_rng(10).normal(loc=0, scale=50, size=1000)\n",
    "# scores *= 10;\n",
    "\n",
    "print(scores[0: 10], '...')\n",
    "\n",
    "sns.displot(scores, height=2)\n",
    "plt.show()"
   ],
   "metadata": {
    "collapsed": false,
    "ExecuteTime": {
     "end_time": "2023-07-06T13:07:07.426717Z",
     "start_time": "2023-07-06T13:07:07.092589Z"
    }
   }
  },
  {
   "cell_type": "code",
   "execution_count": 147,
   "outputs": [
    {
     "name": "stdout",
     "output_type": "stream",
     "text": [
      "frequency \n",
      " [[   0  154]\n",
      " [   1  922]\n",
      " [   2 2365]\n",
      " [   3 3115]\n",
      " [   4 2385]\n",
      " [   5  914]\n",
      " [   6  145]]\n",
      "toss \n",
      " [4 3 2 1 5 3 4 5 4 2]\n"
     ]
    },
    {
     "data": {
      "text/plain": "<Figure size 200x200 with 1 Axes>",
      "image/png": "[encoded data removed]"
     },
     "metadata": {},
     "output_type": "display_data"
    }
   ],
   "source": [
    "# binomial distributions\n",
    "# - discrete\n",
    "# - outcome : success or fail\n",
    "# - p is same for all trials\n",
    "# C(n-trials, x-success) * p^x * q^(n-x)\n",
    "\n",
    "# n => 1, 2, 3...6 numbers on a die\n",
    "# size ise the n-trials !!!\n",
    "\n",
    "toss = np.random.default_rng(100).binomial(n=6, p=0.5, size=10000)\n",
    "\n",
    "# to calculate possibilities of ...\n",
    "# p of 3 is = counts[3] / sum(counts)\n",
    "unique, counts = np.unique(toss, return_counts=True)\n",
    "\n",
    "print(\"frequency \\n\", np.asarray((unique, counts)).T)\n",
    "print(\"toss \\n\", toss[0:10])\n",
    "\n",
    "sns.displot(toss, height=2)\n",
    "plt.show()"
   ],
   "metadata": {
    "collapsed": false,
    "ExecuteTime": {
     "end_time": "2023-07-07T22:04:15.251950Z",
     "start_time": "2023-07-07T22:04:14.847275Z"
    }
   }
  },
  {
   "cell_type": "code",
   "execution_count": 169,
   "outputs": [
    {
     "name": "stdout",
     "output_type": "stream",
     "text": [
      "[2 2 3 2 2 0 1 2 5 2 0 4 2 3 4 3 2 4 0 3 2 2 3 5 2 0 2 2 1 1 0 3 4 1 2 0 3\n",
      " 2 4 2 1 1 7 1 1 0 2 2 2 1 2 2 4 2 4 2 3 1 1 2 4 1 2 0 1 4 3 0 4 0 1 1 2 1\n",
      " 1 0 1 5 2 0 1 2 1 3 2 1 0 1 2 0 1 0 3 1 2 2 0 1 2 5]\n"
     ]
    },
    {
     "data": {
      "text/plain": "<Figure size 200x200 with 1 Axes>",
      "image/png": "[encoded data removed]"
     },
     "metadata": {},
     "output_type": "display_data"
    },
    {
     "name": "stdout",
     "output_type": "stream",
     "text": [
      "p of 3-eats-a-day= 0.11\n"
     ]
    }
   ],
   "source": [
    "# poisson distribution\n",
    "# - discrete\n",
    "# - events in a specific time\n",
    "# p(x=k-occurrence) = λ^k * e^(-λ) / k!\n",
    "\n",
    "# eats 2 times a day (mostly) => λ\n",
    "# what is the probability of eating 3 times a day?\n",
    "eating = np.random.default_rng(1).poisson(lam=2, size=100)\n",
    "\n",
    "unique, counts = np.unique(eating, return_counts=True)\n",
    "\n",
    "print(eating)\n",
    "\n",
    "sns.displot(eating, height=2)\n",
    "plt.show()\n",
    "\n",
    "print(\"p of 3-eats-a-day=\", counts[3]/sum(counts))"
   ],
   "metadata": {
    "collapsed": false,
    "ExecuteTime": {
     "end_time": "2023-07-07T22:34:26.584441Z",
     "start_time": "2023-07-07T22:34:26.318032Z"
    }
   }
  },
  {
   "cell_type": "code",
   "execution_count": 177,
   "outputs": [
    {
     "name": "stdout",
     "output_type": "stream",
     "text": [
      "[0.95600171 0.20768181 0.82844489 0.14928212 0.51280462]\n"
     ]
    },
    {
     "data": {
      "text/plain": "<Figure size 200x200 with 1 Axes>",
      "image/png": "[encoded data removed]"
     },
     "metadata": {},
     "output_type": "display_data"
    }
   ],
   "source": [
    "# uniform distribution\n",
    "# - every event has same chance\n",
    "\n",
    "x = np.random.default_rng(10).uniform(low=0, high=1, size=1000)\n",
    "\n",
    "# unique, frequency = np.unique(x, return_counts=True)\n",
    "# print(frequency)\n",
    "\n",
    "print(x[0: 5])\n",
    "\n",
    "sns.displot(x, height=2)\n",
    "plt.show()"
   ],
   "metadata": {
    "collapsed": false,
    "ExecuteTime": {
     "end_time": "2023-07-07T22:48:42.298706Z",
     "start_time": "2023-07-07T22:48:41.975081Z"
    }
   }
  },
  {
   "cell_type": "code",
   "execution_count": null,
   "outputs": [],
   "source": [],
   "metadata": {
    "collapsed": false
   }
  }
 ],
 "metadata": {
  "kernelspec": {
   "display_name": "Python 3",
   "language": "python",
   "name": "python3"
  },
  "language_info": {
   "codemirror_mode": {
    "name": "ipython",
    "version": 2
   },
   "file_extension": ".py",
   "mimetype": "text/x-python",
   "name": "python",
   "nbconvert_exporter": "python",
   "pygments_lexer": "ipython2",
   "version": "2.7.6"
  }
 },
 "nbformat": 4,
 "nbformat_minor": 0
}
