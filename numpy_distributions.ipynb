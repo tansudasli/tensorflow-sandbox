{
 "cells": [
  {
   "cell_type": "markdown",
   "source": [
    "# numpy basics _distributions_"
   ],
   "metadata": {
    "collapsed": false
   }
  },
  {
   "cell_type": "code",
   "execution_count": 64,
   "metadata": {
    "collapsed": true,
    "ExecuteTime": {
     "end_time": "2023-07-06T10:08:07.507035Z",
     "start_time": "2023-07-06T10:08:07.496423Z"
    }
   },
   "outputs": [],
   "source": [
    "import numpy as np\n",
    "\n",
    "import matplotlib.pyplot as plt\n",
    "import seaborn as sns"
   ]
  },
  {
   "cell_type": "code",
   "execution_count": 82,
   "outputs": [
    {
     "name": "stdout",
     "output_type": "stream",
     "text": [
      "[ 1.33992652  0.38621611 -0.84454703 -1.82819372  1.89461758  0.38588682\n",
      "  1.16105266  1.64135753  0.75261779 -1.24003411] ....\n"
     ]
    },
    {
     "data": {
      "text/plain": "<Figure size 200x200 with 1 Axes>",
      "image/png": "[encoded data removed]"
     },
     "metadata": {},
     "output_type": "display_data"
    }
   ],
   "source": [
    "# random[] by uniform distribution!\n",
    "x = np.random.default_rng(100).uniform(low=-2, high=2, size=1000)\n",
    "print(x[0:10], \"....\")\n",
    "\n",
    "#see distribution\n",
    "# plt.hist(x, range=(-1, 2))\n",
    "sns.displot(x, kind=\"hist\", height=2)\n",
    "plt.show()"
   ],
   "metadata": {
    "collapsed": false,
    "ExecuteTime": {
     "end_time": "2023-07-06T12:58:35.297719Z",
     "start_time": "2023-07-06T12:58:34.966920Z"
    }
   }
  },
  {
   "cell_type": "code",
   "execution_count": 83,
   "outputs": [
    {
     "name": "stdout",
     "output_type": "stream",
     "text": [
      "[6 2 6 2 4 2 5 6 4 6 6 3 5 5 6] ...\n"
     ]
    },
    {
     "data": {
      "text/plain": "<Figure size 200x200 with 1 Axes>",
      "image/png": "[encoded data removed]"
     },
     "metadata": {},
     "output_type": "display_data"
    }
   ],
   "source": [
    "#randoms by choice w/ different probabilities\n",
    "\n",
    "dice = np.random.default_rng(10).choice([1,2,3,4,5,6],\n",
    "                                        size=1000,\n",
    "                                        p=[0.1, 0.15, 0.15, 0.15, 0.25, 0.2])\n",
    "\n",
    "print(dice[0:15], \"...\")\n",
    "\n",
    "# plt.hist(dice, bins=6, range=[1,7])   #using matplotlib\n",
    "sns.displot(dice, height=2, kind='hist')\n",
    "plt.show()"
   ],
   "metadata": {
    "collapsed": false,
    "ExecuteTime": {
     "end_time": "2023-07-06T12:59:28.041170Z",
     "start_time": "2023-07-06T12:59:27.550147Z"
    }
   }
  },
  {
   "cell_type": "code",
   "execution_count": null,
   "outputs": [],
   "source": [],
   "metadata": {
    "collapsed": false
   }
  }
 ],
 "metadata": {
  "kernelspec": {
   "display_name": "Python 3",
   "language": "python",
   "name": "python3"
  },
  "language_info": {
   "codemirror_mode": {
    "name": "ipython",
    "version": 2
   },
   "file_extension": ".py",
   "mimetype": "text/x-python",
   "name": "python",
   "nbconvert_exporter": "python",
   "pygments_lexer": "ipython2",
   "version": "2.7.6"
  }
 },
 "nbformat": 4,
 "nbformat_minor": 0
}
