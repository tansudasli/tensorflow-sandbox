{
 "cells": [
  {
   "cell_type": "markdown",
   "source": [
    "# numpy basics"
   ],
   "metadata": {
    "collapsed": false
   }
  },
  {
   "cell_type": "code",
   "execution_count": 1,
   "metadata": {
    "collapsed": true,
    "ExecuteTime": {
     "end_time": "2023-07-04T13:22:31.713182Z",
     "start_time": "2023-07-04T13:22:31.581166Z"
    }
   },
   "outputs": [],
   "source": [
    "import numpy as np"
   ]
  },
  {
   "cell_type": "code",
   "execution_count": 6,
   "outputs": [
    {
     "name": "stdout",
     "output_type": "stream",
     "text": [
      "[1 2 3 4 5]\n"
     ]
    }
   ],
   "source": [
    "arr = np.array([1, 2, 3, 4, 5])\n",
    "print(arr)"
   ],
   "metadata": {
    "collapsed": false,
    "ExecuteTime": {
     "end_time": "2023-07-04T13:24:29.181816Z",
     "start_time": "2023-07-04T13:24:29.170865Z"
    }
   }
  },
  {
   "cell_type": "code",
   "execution_count": 8,
   "outputs": [
    {
     "name": "stdout",
     "output_type": "stream",
     "text": [
      "1.24.4\n",
      "<class 'numpy.ndarray'>\n"
     ]
    }
   ],
   "source": [
    "print(np.__version__)\n",
    "print(type(arr))"
   ],
   "metadata": {
    "collapsed": false,
    "ExecuteTime": {
     "end_time": "2023-07-04T13:25:52.693520Z",
     "start_time": "2023-07-04T13:25:52.677997Z"
    }
   }
  },
  {
   "cell_type": "code",
   "execution_count": 10,
   "outputs": [
    {
     "name": "stdout",
     "output_type": "stream",
     "text": [
      "[[1 2 3]\n",
      " [4 5 6]]\n",
      "2\n"
     ]
    }
   ],
   "source": [
    "#2d\n",
    "twoD = np.array([[1,2,3], [4,5,6]])\n",
    "\n",
    "print(twoD)\n",
    "print(twoD.ndim)"
   ],
   "metadata": {
    "collapsed": false,
    "ExecuteTime": {
     "end_time": "2023-07-04T13:32:13.164811Z",
     "start_time": "2023-07-04T13:32:13.058152Z"
    }
   }
  },
  {
   "cell_type": "code",
   "execution_count": 38,
   "outputs": [
    {
     "name": "stdout",
     "output_type": "stream",
     "text": [
      "[[[ 1  2  3]\n",
      "  [ 4  5  6]]\n",
      "\n",
      " [[ 7  8  9]\n",
      "  [10 11 12]]]\n",
      "3\n",
      "5\n",
      "5\n"
     ]
    }
   ],
   "source": [
    "# [ count is the dimension :)\n",
    "#  3-d means [d1, d2, element]\n",
    "#  it is kinda a tree\n",
    "threeD = np.array([\n",
    "                   [[1,2,3], [4,5,6]],    #0 dimension has 2 dimension = three dimension\n",
    "                   [[7,8,9], [10,11,12]]\n",
    "                   ])\n",
    "\n",
    "print(threeD)\n",
    "print(threeD.ndim)\n",
    "print(threeD[0,1,1])\n",
    "print(threeD[0][1][1])  #same as above!"
   ],
   "metadata": {
    "collapsed": false,
    "ExecuteTime": {
     "end_time": "2023-07-04T13:55:45.761535Z",
     "start_time": "2023-07-04T13:55:45.736427Z"
    }
   }
  },
  {
   "cell_type": "markdown",
   "source": [
    "## indexing"
   ],
   "metadata": {
    "collapsed": false
   }
  },
  {
   "cell_type": "code",
   "execution_count": 30,
   "outputs": [
    {
     "name": "stdout",
     "output_type": "stream",
     "text": [
      "1\n",
      "[1 2 3]\n",
      "6\n",
      "[[4 5 6]]\n"
     ]
    }
   ],
   "source": [
    "print(arr[0])\n",
    "print(twoD[0])\n",
    "print(twoD[1][2])\n",
    "print(twoD[1:])"
   ],
   "metadata": {
    "collapsed": false,
    "ExecuteTime": {
     "end_time": "2023-07-04T13:42:35.981821Z",
     "start_time": "2023-07-04T13:42:35.969576Z"
    }
   }
  },
  {
   "cell_type": "markdown",
   "source": [
    "## slicing"
   ],
   "metadata": {
    "collapsed": false
   }
  },
  {
   "cell_type": "code",
   "execution_count": 50,
   "outputs": [
    {
     "name": "stdout",
     "output_type": "stream",
     "text": [
      "[1 2]\n",
      "[[1 2 3]\n",
      " [4 5 6]]\n",
      "[[1 2 3]]\n",
      "[1 2]\n",
      "[2 5]\n",
      "[[2 3]\n",
      " [5 6]]\n"
     ]
    }
   ],
   "source": [
    "# [index : index - excluded]\n",
    "print(arr[0:2])\n",
    "print(twoD[0:])\n",
    "print(twoD[0:1])\n",
    "print(twoD[0][0:2])\n",
    "print(twoD[0:2,1])  #both rows, only 2nd elements\n",
    "print(twoD[:,1:3])  #both rows, only 2nd & 3rd elements, 2-d nparray"
   ],
   "metadata": {
    "collapsed": false,
    "ExecuteTime": {
     "end_time": "2023-07-04T14:04:51.850880Z",
     "start_time": "2023-07-04T14:04:51.836379Z"
    }
   }
  },
  {
   "cell_type": "markdown",
   "source": [
    "## types"
   ],
   "metadata": {
    "collapsed": false
   }
  },
  {
   "cell_type": "code",
   "execution_count": 52,
   "outputs": [
    {
     "name": "stdout",
     "output_type": "stream",
     "text": [
      "<class 'numpy.ndarray'>\n",
      "int64\n"
     ]
    }
   ],
   "source": [
    "print(type(arr))\n",
    "print(arr.dtype)"
   ],
   "metadata": {
    "collapsed": false,
    "ExecuteTime": {
     "end_time": "2023-07-04T20:01:24.922467Z",
     "start_time": "2023-07-04T20:01:24.908331Z"
    }
   }
  },
  {
   "cell_type": "code",
   "execution_count": 55,
   "outputs": [
    {
     "name": "stdout",
     "output_type": "stream",
     "text": [
      "<U6\n",
      "|S1\n"
     ]
    }
   ],
   "source": [
    "arrString = np.array(['apple', 'orange', 'berry'])\n",
    "arrIntAsString = np.array([1, 2, 3], dtype='S')\n",
    "\n",
    "print(arrString.dtype)\n",
    "print(arrIntAsString.dtype)"
   ],
   "metadata": {
    "collapsed": false,
    "ExecuteTime": {
     "end_time": "2023-07-04T20:05:00.574724Z",
     "start_time": "2023-07-04T20:05:00.565629Z"
    }
   }
  },
  {
   "cell_type": "code",
   "execution_count": 57,
   "outputs": [
    {
     "name": "stdout",
     "output_type": "stream",
     "text": [
      "[1 2 3]\n",
      "int64\n"
     ]
    }
   ],
   "source": [
    "# astype, copy the array, then converts!\n",
    "\n",
    "arrIntFromString = arrIntAsString.astype(dtype='i8')\n",
    "\n",
    "print(arrIntFromString)\n",
    "print(arrIntFromString.dtype)"
   ],
   "metadata": {
    "collapsed": false,
    "ExecuteTime": {
     "end_time": "2023-07-04T20:08:10.647732Z",
     "start_time": "2023-07-04T20:08:10.621895Z"
    }
   }
  },
  {
   "cell_type": "code",
   "execution_count": 61,
   "outputs": [
    {
     "name": "stdout",
     "output_type": "stream",
     "text": [
      "[ True  True  True]\n"
     ]
    }
   ],
   "source": [
    "arrBool = arrIntAsString.astype(dtype=bool)\n",
    "\n",
    "print(arrBool)"
   ],
   "metadata": {
    "collapsed": false,
    "ExecuteTime": {
     "end_time": "2023-07-04T20:11:11.337243Z",
     "start_time": "2023-07-04T20:11:11.326365Z"
    }
   }
  },
  {
   "cell_type": "markdown",
   "source": [
    "## copy"
   ],
   "metadata": {
    "collapsed": false
   }
  },
  {
   "cell_type": "code",
   "execution_count": null,
   "outputs": [],
   "source": [],
   "metadata": {
    "collapsed": false
   }
  }
 ],
 "metadata": {
  "kernelspec": {
   "display_name": "Python 3",
   "language": "python",
   "name": "python3"
  },
  "language_info": {
   "codemirror_mode": {
    "name": "ipython",
    "version": 2
   },
   "file_extension": ".py",
   "mimetype": "text/x-python",
   "name": "python",
   "nbconvert_exporter": "python",
   "pygments_lexer": "ipython2",
   "version": "2.7.6"
  }
 },
 "nbformat": 4,
 "nbformat_minor": 0
}
