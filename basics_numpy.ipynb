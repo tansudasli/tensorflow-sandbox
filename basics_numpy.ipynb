{
 "cells": [
  {
   "cell_type": "markdown",
   "source": [
    "# numpy basics"
   ],
   "metadata": {
    "collapsed": false
   }
  },
  {
   "cell_type": "code",
   "execution_count": 24,
   "metadata": {
    "collapsed": true,
    "ExecuteTime": {
     "end_time": "2023-07-04T20:40:43.124672Z",
     "start_time": "2023-07-04T20:40:43.069593Z"
    }
   },
   "outputs": [],
   "source": [
    "import numpy as np"
   ]
  },
  {
   "cell_type": "code",
   "execution_count": 25,
   "outputs": [
    {
     "name": "stdout",
     "output_type": "stream",
     "text": [
      "[1 2 3 4 5]\n"
     ]
    }
   ],
   "source": [
    "arr = np.array([1, 2, 3, 4, 5])\n",
    "print(arr)"
   ],
   "metadata": {
    "collapsed": false,
    "ExecuteTime": {
     "end_time": "2023-07-04T20:40:43.236943Z",
     "start_time": "2023-07-04T20:40:43.082237Z"
    }
   }
  },
  {
   "cell_type": "code",
   "execution_count": 26,
   "outputs": [
    {
     "name": "stdout",
     "output_type": "stream",
     "text": [
      "1.24.4\n",
      "<class 'numpy.ndarray'>\n"
     ]
    }
   ],
   "source": [
    "print(np.__version__)\n",
    "print(type(arr))"
   ],
   "metadata": {
    "collapsed": false,
    "ExecuteTime": {
     "end_time": "2023-07-04T20:40:43.258750Z",
     "start_time": "2023-07-04T20:40:43.099826Z"
    }
   }
  },
  {
   "cell_type": "code",
   "execution_count": 27,
   "outputs": [
    {
     "name": "stdout",
     "output_type": "stream",
     "text": [
      "[[1 2 3]\n",
      " [4 5 6]]\n",
      "2\n"
     ]
    }
   ],
   "source": [
    "#2d\n",
    "twoD = np.array([[1,2,3], [4,5,6]])\n",
    "\n",
    "print(twoD)\n",
    "print(twoD.ndim)"
   ],
   "metadata": {
    "collapsed": false,
    "ExecuteTime": {
     "end_time": "2023-07-04T20:40:43.260080Z",
     "start_time": "2023-07-04T20:40:43.127911Z"
    }
   }
  },
  {
   "cell_type": "code",
   "execution_count": 28,
   "outputs": [
    {
     "name": "stdout",
     "output_type": "stream",
     "text": [
      "[[[ 1  2  3]\n",
      "  [ 4  5  6]]\n",
      "\n",
      " [[ 7  8  9]\n",
      "  [10 11 12]]]\n",
      "3\n",
      "5\n",
      "5\n"
     ]
    }
   ],
   "source": [
    "# [ count is the dimension :)\n",
    "#  3-d means [d1, d2, element]\n",
    "#  it is kinda a tree\n",
    "threeD = np.array([\n",
    "                   [[1,2,3], [4,5,6]],    #0 dimension has 2 dimension = three dimension\n",
    "                   [[7,8,9], [10,11,12]]\n",
    "                   ])\n",
    "\n",
    "print(threeD)\n",
    "print(threeD.ndim)\n",
    "print(threeD[0,1,1])\n",
    "print(threeD[0][1][1])  #same as above!"
   ],
   "metadata": {
    "collapsed": false,
    "ExecuteTime": {
     "end_time": "2023-07-04T20:40:43.261377Z",
     "start_time": "2023-07-04T20:40:43.149916Z"
    }
   }
  },
  {
   "cell_type": "markdown",
   "source": [
    "## indexing"
   ],
   "metadata": {
    "collapsed": false
   }
  },
  {
   "cell_type": "code",
   "execution_count": 29,
   "outputs": [
    {
     "name": "stdout",
     "output_type": "stream",
     "text": [
      "1\n",
      "[1 2 3]\n",
      "6\n",
      "[[4 5 6]]\n"
     ]
    }
   ],
   "source": [
    "print(arr[0])\n",
    "print(twoD[0])\n",
    "print(twoD[1][2])\n",
    "print(twoD[1:])"
   ],
   "metadata": {
    "collapsed": false,
    "ExecuteTime": {
     "end_time": "2023-07-04T20:40:43.269473Z",
     "start_time": "2023-07-04T20:40:43.166284Z"
    }
   }
  },
  {
   "cell_type": "markdown",
   "source": [
    "## slicing"
   ],
   "metadata": {
    "collapsed": false
   }
  },
  {
   "cell_type": "code",
   "execution_count": 30,
   "outputs": [
    {
     "name": "stdout",
     "output_type": "stream",
     "text": [
      "[1 2]\n",
      "[[1 2 3]\n",
      " [4 5 6]]\n",
      "[[1 2 3]]\n",
      "[1 2]\n",
      "[2 5]\n",
      "[[2 3]\n",
      " [5 6]]\n"
     ]
    }
   ],
   "source": [
    "# [index : index - excluded]\n",
    "print(arr[0:2])\n",
    "print(twoD[0:])\n",
    "print(twoD[0:1])\n",
    "print(twoD[0][0:2])\n",
    "print(twoD[0:2,1])  #both rows, only 2nd elements\n",
    "print(twoD[:,1:3])  #both rows, only 2nd & 3rd elements, 2-d nparray"
   ],
   "metadata": {
    "collapsed": false,
    "ExecuteTime": {
     "end_time": "2023-07-04T20:40:43.270023Z",
     "start_time": "2023-07-04T20:40:43.175711Z"
    }
   }
  },
  {
   "cell_type": "markdown",
   "source": [
    "## types"
   ],
   "metadata": {
    "collapsed": false
   }
  },
  {
   "cell_type": "code",
   "execution_count": 31,
   "outputs": [
    {
     "name": "stdout",
     "output_type": "stream",
     "text": [
      "<class 'numpy.ndarray'>\n",
      "int64\n"
     ]
    }
   ],
   "source": [
    "print(type(arr))\n",
    "print(arr.dtype)"
   ],
   "metadata": {
    "collapsed": false,
    "ExecuteTime": {
     "end_time": "2023-07-04T20:40:43.270514Z",
     "start_time": "2023-07-04T20:40:43.187397Z"
    }
   }
  },
  {
   "cell_type": "code",
   "execution_count": 32,
   "outputs": [
    {
     "name": "stdout",
     "output_type": "stream",
     "text": [
      "<U6\n",
      "|S1\n"
     ]
    }
   ],
   "source": [
    "arrString = np.array(['apple', 'orange', 'berry'])\n",
    "arrIntAsString = np.array([1, 2, 3], dtype='S')\n",
    "\n",
    "print(arrString.dtype)\n",
    "print(arrIntAsString.dtype)"
   ],
   "metadata": {
    "collapsed": false,
    "ExecuteTime": {
     "end_time": "2023-07-04T20:40:43.270970Z",
     "start_time": "2023-07-04T20:40:43.197265Z"
    }
   }
  },
  {
   "cell_type": "code",
   "execution_count": 33,
   "outputs": [
    {
     "name": "stdout",
     "output_type": "stream",
     "text": [
      "[1 2 3]\n",
      "int64\n"
     ]
    }
   ],
   "source": [
    "# astype, copy the array, then converts!\n",
    "\n",
    "arrIntFromString = arrIntAsString.astype(dtype='i8')\n",
    "\n",
    "print(arrIntFromString)\n",
    "print(arrIntFromString.dtype)"
   ],
   "metadata": {
    "collapsed": false,
    "ExecuteTime": {
     "end_time": "2023-07-04T20:40:43.272637Z",
     "start_time": "2023-07-04T20:40:43.214372Z"
    }
   }
  },
  {
   "cell_type": "code",
   "execution_count": 34,
   "outputs": [
    {
     "name": "stdout",
     "output_type": "stream",
     "text": [
      "[ True  True  True]\n"
     ]
    }
   ],
   "source": [
    "arrBool = arrIntAsString.astype(dtype=bool)\n",
    "\n",
    "print(arrBool)"
   ],
   "metadata": {
    "collapsed": false,
    "ExecuteTime": {
     "end_time": "2023-07-04T20:40:43.273074Z",
     "start_time": "2023-07-04T20:40:43.223083Z"
    }
   }
  },
  {
   "cell_type": "markdown",
   "source": [
    "## copy"
   ],
   "metadata": {
    "collapsed": false
   }
  },
  {
   "cell_type": "code",
   "execution_count": 46,
   "outputs": [
    {
     "name": "stdout",
     "output_type": "stream",
     "text": [
      "[20  4  1  6 83 10]\n",
      "[ 2  4  1  6 83 10]\n",
      "[20  4  1  6 83 10]\n",
      "None\n",
      "[20  4  1  6 83 10]\n"
     ]
    }
   ],
   "source": [
    "original = np.array([2, 4, 1, 6, 83, 10])\n",
    "\n",
    "x = original.copy()\n",
    "y = original.view()\n",
    "\n",
    "original[0] = 20\n",
    "\n",
    "print(original)\n",
    "print(x)   #copy - as a new array\n",
    "print(y)   #view - bound to the original\n",
    "\n",
    "print(x.base)   #does it own the original\n",
    "print(y.base)"
   ],
   "metadata": {
    "collapsed": false,
    "ExecuteTime": {
     "end_time": "2023-07-04T20:49:39.199776Z",
     "start_time": "2023-07-04T20:49:39.177338Z"
    }
   }
  },
  {
   "cell_type": "code",
   "execution_count": 47,
   "outputs": [
    {
     "name": "stdout",
     "output_type": "stream",
     "text": [
      "(6,)\n"
     ]
    }
   ],
   "source": [
    "print(original.shape)"
   ],
   "metadata": {
    "collapsed": false,
    "ExecuteTime": {
     "end_time": "2023-07-04T20:51:57.772559Z",
     "start_time": "2023-07-04T20:51:57.749682Z"
    }
   }
  },
  {
   "cell_type": "markdown",
   "source": [
    "## reshaping (increasing the dimension)"
   ],
   "metadata": {
    "collapsed": false
   }
  },
  {
   "cell_type": "code",
   "execution_count": 50,
   "outputs": [
    {
     "name": "stdout",
     "output_type": "stream",
     "text": [
      "6\n",
      "[[20  4  1]\n",
      " [ 6 83 10]]\n",
      "(2, 3)\n"
     ]
    }
   ],
   "source": [
    "# original is 1-d and 6 elements\n",
    "\n",
    "print(original.size)    # 6 elements\n",
    "\n",
    "originalReshaped = original.reshape(2, 3)   # (2 * 3) = 6 !!!\n",
    "\n",
    "print(originalReshaped)     # returns a view (the original!!)\n",
    "print(originalReshaped.shape)"
   ],
   "metadata": {
    "collapsed": false,
    "ExecuteTime": {
     "end_time": "2023-07-04T20:54:42.646779Z",
     "start_time": "2023-07-04T20:54:42.630325Z"
    }
   }
  },
  {
   "cell_type": "markdown",
   "source": [
    "## flatting (decreasing the dimension to 1D !)"
   ],
   "metadata": {
    "collapsed": false
   }
  },
  {
   "cell_type": "code",
   "execution_count": 57,
   "outputs": [
    {
     "name": "stdout",
     "output_type": "stream",
     "text": [
      "[[1 2 3]\n",
      " [4 5 6]]\n",
      "[1 2 3 4 5 6]\n"
     ]
    }
   ],
   "source": [
    "#\n",
    "print(twoD)  # 2-d array\n",
    "\n",
    "twoDFlat = twoD.reshape(-1)  # make it 1-d\n",
    "\n",
    "print(twoDFlat)"
   ],
   "metadata": {
    "collapsed": false,
    "ExecuteTime": {
     "end_time": "2023-07-04T21:07:36.899209Z",
     "start_time": "2023-07-04T21:07:36.883375Z"
    }
   }
  },
  {
   "cell_type": "code",
   "execution_count": 66,
   "outputs": [
    {
     "name": "stdout",
     "output_type": "stream",
     "text": [
      "(5,)\n",
      "(2, 3)\n",
      "(2, 2, 3)\n"
     ]
    }
   ],
   "source": [
    "print(arr.shape)\n",
    "print(twoD.shape)\n",
    "print(threeD.shape)\n",
    "\n",
    "# (x, y, z)\n",
    "# x * y * z = total => means element count\n",
    "# x, y, z count is 3 => means 3-d\n"
   ],
   "metadata": {
    "collapsed": false,
    "ExecuteTime": {
     "end_time": "2023-07-04T21:14:27.335406Z",
     "start_time": "2023-07-04T21:14:27.321620Z"
    }
   }
  },
  {
   "cell_type": "markdown",
   "source": [
    "## iteration"
   ],
   "metadata": {
    "collapsed": false
   }
  },
  {
   "cell_type": "code",
   "execution_count": 73,
   "outputs": [
    {
     "name": "stdout",
     "output_type": "stream",
     "text": [
      "[1 2 3 4 5]\n",
      "1\n",
      "2\n",
      "3\n",
      "4\n",
      "5\n"
     ]
    }
   ],
   "source": [
    "print(arr)\n",
    "\n",
    "for i in arr:  # kinda foreach\n",
    "    print(i)"
   ],
   "metadata": {
    "collapsed": false,
    "ExecuteTime": {
     "end_time": "2023-07-04T21:24:46.117176Z",
     "start_time": "2023-07-04T21:24:46.100858Z"
    }
   }
  },
  {
   "cell_type": "code",
   "execution_count": 68,
   "outputs": [
    {
     "name": "stdout",
     "output_type": "stream",
     "text": [
      "[[1 2 3]\n",
      " [4 5 6]]\n",
      "1\n",
      "2\n",
      "3\n",
      "4\n",
      "5\n",
      "6\n"
     ]
    }
   ],
   "source": [
    "print(twoD)\n",
    "\n",
    "for x in twoD:\n",
    "    for y in x:\n",
    "        print(y)"
   ],
   "metadata": {
    "collapsed": false,
    "ExecuteTime": {
     "end_time": "2023-07-04T21:19:59.498252Z",
     "start_time": "2023-07-04T21:19:59.482939Z"
    }
   }
  },
  {
   "cell_type": "code",
   "execution_count": 75,
   "outputs": [
    {
     "name": "stdout",
     "output_type": "stream",
     "text": [
      "[[[ 1  2  3]\n",
      "  [ 4  5  6]]\n",
      "\n",
      " [[ 7  8  9]\n",
      "  [10 11 12]]]\n",
      "1\n",
      "2\n",
      "3\n",
      "4\n",
      "5\n",
      "6\n",
      "7\n",
      "8\n",
      "9\n",
      "10\n",
      "11\n",
      "12\n"
     ]
    }
   ],
   "source": [
    "print(threeD)\n",
    "\n",
    "for x in threeD:\n",
    "    for y in x:\n",
    "        for z in y:\n",
    "            print(z)\n"
   ],
   "metadata": {
    "collapsed": false,
    "ExecuteTime": {
     "end_time": "2023-07-04T21:25:06.556868Z",
     "start_time": "2023-07-04T21:25:06.543505Z"
    }
   }
  },
  {
   "cell_type": "code",
   "execution_count": 74,
   "outputs": [
    {
     "name": "stdout",
     "output_type": "stream",
     "text": [
      "1\n",
      "2\n",
      "3\n",
      "4\n",
      "5\n",
      "6\n",
      "7\n",
      "8\n",
      "9\n",
      "10\n",
      "11\n",
      "12\n"
     ]
    }
   ],
   "source": [
    "# more optimized way! esp. for N-d arrays\n",
    "for x in np.nditer(threeD):\n",
    "    print(x)"
   ],
   "metadata": {
    "collapsed": false,
    "ExecuteTime": {
     "end_time": "2023-07-04T21:24:58.567910Z",
     "start_time": "2023-07-04T21:24:58.537614Z"
    }
   }
  },
  {
   "cell_type": "markdown",
   "source": [
    "## enumeration (index, value)"
   ],
   "metadata": {
    "collapsed": false
   }
  },
  {
   "cell_type": "code",
   "execution_count": 80,
   "outputs": [
    {
     "name": "stdout",
     "output_type": "stream",
     "text": [
      "0 - 1\n",
      "1 - 2\n",
      "2 - 3\n",
      "3 - 4\n",
      "4 - 5\n"
     ]
    }
   ],
   "source": [
    "# enumeration (index, value)\n",
    "\n",
    "for idx, x in np.ndenumerate(arr):\n",
    "    print(idx[0], '-' ,x)\n"
   ],
   "metadata": {
    "collapsed": false,
    "ExecuteTime": {
     "end_time": "2023-07-04T21:34:06.048923Z",
     "start_time": "2023-07-04T21:34:06.031603Z"
    }
   }
  },
  {
   "cell_type": "code",
   "execution_count": null,
   "outputs": [],
   "source": [],
   "metadata": {
    "collapsed": false
   }
  }
 ],
 "metadata": {
  "kernelspec": {
   "display_name": "Python 3",
   "language": "python",
   "name": "python3"
  },
  "language_info": {
   "codemirror_mode": {
    "name": "ipython",
    "version": 2
   },
   "file_extension": ".py",
   "mimetype": "text/x-python",
   "name": "python",
   "nbconvert_exporter": "python",
   "pygments_lexer": "ipython2",
   "version": "2.7.6"
  }
 },
 "nbformat": 4,
 "nbformat_minor": 0
}
