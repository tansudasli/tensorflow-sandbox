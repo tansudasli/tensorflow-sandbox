{
 "cells": [
  {
   "cell_type": "markdown",
   "source": [
    "# apache arrow transformations"
   ],
   "metadata": {
    "collapsed": false
   }
  },
  {
   "cell_type": "code",
   "execution_count": 5,
   "metadata": {
    "collapsed": true,
    "ExecuteTime": {
     "end_time": "2023-07-11T20:59:42.309401Z",
     "start_time": "2023-07-11T20:59:42.205083Z"
    }
   },
   "outputs": [],
   "source": [
    "import pyarrow as pa\n",
    "import pyarrow.csv as csv\n",
    "import pyarrow.parquet as pq\n",
    "import pyarrow.compute as pc\n",
    "\n",
    "abalone_file = \"./dataset/abalone_train.csv\""
   ]
  },
  {
   "cell_type": "code",
   "execution_count": 3,
   "outputs": [
    {
     "data": {
      "text/plain": "pyarrow.Table\nlength: double\ndiameter: double\nheight: double\nwhole_weight: double\nshucked_weight: double\nviscera_weight: double\nshell_weight: double\nage: int64\n----\nlength: [[0.435,0.585,0.655,0.545,0.545,...,0.605,0.7,0.53,0.395,0.45]]\ndiameter: [[0.335,0.45,0.51,0.425,0.42,...,0.475,0.525,0.42,0.315,0.355]]\nheight: [[0.11,0.125,0.16,0.125,0.13,...,0.18,0.19,0.13,0.105,0.12]]\nwhole_weight: [[0.334,0.874,1.092,0.768,0.879,...,0.9365,1.6015,0.8365,0.3515,0.412]]\nshucked_weight: [[0.1355,0.3545,0.396,0.294,0.374,...,0.394,0.707,0.3745,0.1185,0.1145]]\nviscera_weight: [[0.0775,0.2075,0.2825,0.1495,0.1695,...,0.219,0.365,0.167,0.091,0.0665]]\nshell_weight: [[0.0965,0.225,0.37,0.26,0.23,...,0.295,0.43,0.249,0.1195,0.16]]\nage: [[7,6,14,16,13,...,15,10,11,16,19]]"
     },
     "execution_count": 3,
     "metadata": {},
     "output_type": "execute_result"
    }
   ],
   "source": [
    "abalone = csv.read_csv(abalone_file,\n",
    "                       read_options=csv.ReadOptions(\n",
    "                           column_names=[\"length\",\"diameter\", \"height\", \"whole_weight\", \"shucked_weight\", \"viscera_weight\", \"shell_weight\", \"age\"],\n",
    "                           use_threads=True\n",
    "                       ) )\n",
    "\n",
    "abalone"
   ],
   "metadata": {
    "collapsed": false,
    "ExecuteTime": {
     "end_time": "2023-07-11T20:54:13.549804Z",
     "start_time": "2023-07-11T20:54:13.523231Z"
    }
   }
  },
  {
   "cell_type": "code",
   "execution_count": 4,
   "outputs": [],
   "source": [
    "# write to parquet file\n",
    "\n",
    "pq.write_table(abalone, where=\"./dataset/abalone.parquet\")"
   ],
   "metadata": {
    "collapsed": false,
    "ExecuteTime": {
     "end_time": "2023-07-11T20:56:07.974389Z",
     "start_time": "2023-07-11T20:56:07.958883Z"
    }
   }
  },
  {
   "cell_type": "code",
   "execution_count": 13,
   "outputs": [
    {
     "name": "stdout",
     "output_type": "stream",
     "text": [
      "-- is_valid: all not null\n",
      "-- child 0 type: int64\n",
      "  [\n",
      "    7,\n",
      "    6,\n",
      "    14\n",
      "  ]\n",
      "-- child 1 type: int64\n",
      "  [\n",
      "    307,\n",
      "    200,\n",
      "    97\n",
      "  ]\n"
     ]
    }
   ],
   "source": [
    "# computations\n",
    "\n",
    "ageFrequency = pc.value_counts(abalone[\"age\"])\n",
    "\n",
    "print(ageFrequency[0:3])"
   ],
   "metadata": {
    "collapsed": false,
    "ExecuteTime": {
     "end_time": "2023-07-11T21:04:50.950333Z",
     "start_time": "2023-07-11T21:04:50.942267Z"
    }
   }
  },
  {
   "cell_type": "code",
   "execution_count": 21,
   "outputs": [
    {
     "name": "stdout",
     "output_type": "stream",
     "text": [
      "pyarrow.Table\n",
      "length_mean: double\n",
      "age_count: int64\n",
      "age: int64\n",
      "----\n",
      "length_mean: [[0.4210097719869706,0.37225,0.5789690721649483,0.5853508771929825,0.580483870967742,...,0.6075,0.645,0.075,0.695,0.15]]\n",
      "age_count: [[307,200,97,57,155,...,2,1,1,2,1]]\n",
      "age: [[7,6,14,16,13,...,27,25,1,24,2]]\n"
     ]
    }
   ],
   "source": [
    "lengthMeanGroupByAge = abalone.group_by(\"age\")\\\n",
    "                              .aggregate([(\"length\", \"mean\"),\n",
    "                                          (\"age\", \"count\")])\n",
    "\n",
    "print(lengthMeanGroupByAge)"
   ],
   "metadata": {
    "collapsed": false,
    "ExecuteTime": {
     "end_time": "2023-07-11T21:19:45.742311Z",
     "start_time": "2023-07-11T21:19:45.731642Z"
    }
   }
  },
  {
   "cell_type": "code",
   "execution_count": null,
   "outputs": [],
   "source": [],
   "metadata": {
    "collapsed": false
   }
  }
 ],
 "metadata": {
  "kernelspec": {
   "display_name": "Python 3",
   "language": "python",
   "name": "python3"
  },
  "language_info": {
   "codemirror_mode": {
    "name": "ipython",
    "version": 2
   },
   "file_extension": ".py",
   "mimetype": "text/x-python",
   "name": "python",
   "nbconvert_exporter": "python",
   "pygments_lexer": "ipython2",
   "version": "2.7.6"
  }
 },
 "nbformat": 4,
 "nbformat_minor": 0
}
