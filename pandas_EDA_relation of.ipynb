{
 "cells": [
  {
   "cell_type": "markdown",
   "source": [
    "# pandas - associations\n",
    "\n",
    "**abalone** has 4 float, and 1 integer (=age) feature column. But age is treated as continuous or categorical depending on how you frame the problem.\n",
    "\n",
    "a. Take as continuous, predict a number, then round it,\n",
    "b. Take as categorical, _which changes statistical tests you are about to apply_,"
   ],
   "metadata": {
    "collapsed": false
   }
  },
  {
   "cell_type": "code",
   "execution_count": 2,
   "metadata": {
    "collapsed": true,
    "ExecuteTime": {
     "end_time": "2023-07-27T11:46:48.001248Z",
     "start_time": "2023-07-27T11:46:47.988867Z"
    }
   },
   "outputs": [],
   "source": [
    "import pandas as pd\n",
    "\n",
    "abaloneFile = \"./dataset/abalone.parquet\""
   ]
  },
  {
   "cell_type": "code",
   "execution_count": 13,
   "outputs": [
    {
     "name": "stdout",
     "output_type": "stream",
     "text": [
      "<class 'pandas.core.series.Series'>\n",
      "RangeIndex: 3320 entries, 0 to 3319\n",
      "Series name: age\n",
      "Non-Null Count  Dtype\n",
      "--------------  -----\n",
      "3320 non-null   int64\n",
      "dtypes: int64(1)\n",
      "memory usage: 26.1 KB\n",
      "None\n",
      "<class 'pandas.core.series.Series'>\n",
      "RangeIndex: 3320 entries, 0 to 3319\n",
      "Series name: age\n",
      "Non-Null Count  Dtype   \n",
      "--------------  -----   \n",
      "3320 non-null   category\n",
      "dtypes: category(1)\n",
      "memory usage: 4.6 KB\n",
      "None\n"
     ]
    }
   ],
   "source": [
    "# so we need 2 type of data frames\n",
    "# age is int\n",
    "# age is category\n",
    "\n",
    "dfAbalone = pd.read_parquet(abaloneFile)\n",
    "dfAbaloneCategorized = dfAbalone.astype({\"age\" : \"category\"},\n",
    "                                        copy=True)\n",
    "\n",
    "print(dfAbalone.age.info())\n",
    "print(dfAbaloneCategorized.age.info())"
   ],
   "metadata": {
    "collapsed": false,
    "ExecuteTime": {
     "end_time": "2023-07-27T11:59:25.395511Z",
     "start_time": "2023-07-27T11:59:25.374292Z"
    }
   }
  },
  {
   "cell_type": "code",
   "execution_count": null,
   "outputs": [],
   "source": [],
   "metadata": {
    "collapsed": false
   }
  }
 ],
 "metadata": {
  "kernelspec": {
   "display_name": "Python 3",
   "language": "python",
   "name": "python3"
  },
  "language_info": {
   "codemirror_mode": {
    "name": "ipython",
    "version": 2
   },
   "file_extension": ".py",
   "mimetype": "text/x-python",
   "name": "python",
   "nbconvert_exporter": "python",
   "pygments_lexer": "ipython2",
   "version": "2.7.6"
  }
 },
 "nbformat": 4,
 "nbformat_minor": 0
}
