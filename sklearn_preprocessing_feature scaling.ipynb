{
 "cells": [
  {
   "cell_type": "markdown",
   "source": [
    "# sklearn - feature scaling\n",
    "\n",
    "- Normalization\n",
    "- Standardization (StandardScaler, MinMaxScaler)"
   ],
   "metadata": {
    "collapsed": false
   }
  },
  {
   "cell_type": "code",
   "execution_count": 30,
   "metadata": {
    "collapsed": true,
    "ExecuteTime": {
     "end_time": "2023-07-27T18:34:55.719959Z",
     "start_time": "2023-07-27T18:34:55.711200Z"
    }
   },
   "outputs": [],
   "source": [
    "import pandas as pd\n",
    "from sklearn import preprocessing\n",
    "import matplotlib.pyplot as plt\n",
    "import seaborn as sns\n",
    "\n",
    "abaloneFile = \"./dataset/abalone.parquet\"\n",
    "abaloneStandardizedMinMaxFile =  \"./dataset/abaloneStandardizedMinMax.parquet\"\n",
    "abaloneStandardizedFile =  \"./dataset/abaloneStandardized.parquet\"\n",
    "abaloneNormalizedFile =  \"./dataset/abaloneNormalized.parquet\""
   ]
  },
  {
   "cell_type": "code",
   "execution_count": 7,
   "outputs": [
    {
     "name": "stdout",
     "output_type": "stream",
     "text": [
      "   length  diameter  height  whole_weight  shucked_weight  viscera_weight  \\\n",
      "0   0.435     0.335   0.110         0.334          0.1355          0.0775   \n",
      "1   0.585     0.450   0.125         0.874          0.3545          0.2075   \n",
      "2   0.655     0.510   0.160         1.092          0.3960          0.2825   \n",
      "3   0.545     0.425   0.125         0.768          0.2940          0.1495   \n",
      "4   0.545     0.420   0.130         0.879          0.3740          0.1695   \n",
      "\n",
      "   shell_weight  age  \n",
      "0        0.0965    7  \n",
      "1        0.2250    6  \n",
      "2        0.3700   14  \n",
      "3        0.2600   16  \n",
      "4        0.2300   13  \n"
     ]
    }
   ],
   "source": [
    "dfAbalone = pd.read_parquet(abaloneFile)\n",
    "\n",
    "print(dfAbalone.head())"
   ],
   "metadata": {
    "collapsed": false,
    "ExecuteTime": {
     "end_time": "2023-07-27T13:02:24.348214Z",
     "start_time": "2023-07-27T13:02:24.334479Z"
    }
   }
  },
  {
   "cell_type": "markdown",
   "source": [
    "## standardization"
   ],
   "metadata": {
    "collapsed": false
   }
  },
  {
   "cell_type": "code",
   "execution_count": 69,
   "outputs": [
    {
     "name": "stdout",
     "output_type": "stream",
     "text": [
      "             length      diameter        height  whole_weight  shucked_weight  \\\n",
      "count  3.320000e+03  3.320000e+03  3.320000e+03  3.320000e+03    3.320000e+03   \n",
      "mean   2.776895e-16  4.654911e-17  2.504021e-16 -2.814348e-16    2.182993e-16   \n",
      "std    1.000151e+00  1.000151e+00  1.000151e+00  1.000151e+00    1.000151e+00   \n",
      "min   -3.695497e+00 -3.512070e+00 -3.261480e+00 -1.675262e+00   -1.605405e+00   \n",
      "25%   -6.000452e-01 -6.151080e-01 -5.683854e-01 -7.907822e-01   -7.930368e-01   \n",
      "50%    1.428632e-01  1.840540e-01  1.706990e-02 -6.003667e-02   -9.993561e-02   \n",
      "75%    7.619535e-01  7.334779e-01  6.025252e-01  6.623095e-01    6.606755e-01   \n",
      "max    2.412861e+00  2.431697e+00  2.320110e+01  4.073983e+00    5.087072e+00   \n",
      "\n",
      "       viscera_weight  shell_weight           age  \n",
      "count    3.320000e+03  3.320000e+03  3.320000e+03  \n",
      "mean     1.771006e-16 -1.054043e-16 -2.204395e-16  \n",
      "std      1.000151e+00  1.000151e+00  1.000151e+00  \n",
      "min     -1.630840e+00 -1.685830e+00 -2.775823e+00  \n",
      "25%     -8.002687e-01 -7.882611e-01 -5.918523e-01  \n",
      "50%     -8.543305e-02 -5.647918e-02 -2.798565e-01  \n",
      "75%      6.623078e-01  6.209316e-01  3.441351e-01  \n",
      "max      5.263353e+00  5.469767e+00  5.336068e+00  \n"
     ]
    }
   ],
   "source": [
    "# standard scaler\n",
    "# μ = 0, σ = 1\n",
    "\n",
    "scaler = preprocessing.StandardScaler().fit_transform(X=dfAbalone)        #standardize variance (z-score)\n",
    "dfAbaloneStandardized = pd.DataFrame(scaler, \n",
    "                                     columns= dfAbalone.columns)  # (μ=0, σ=1)\n",
    "\n",
    "print(dfAbaloneStandardized.describe())"
   ],
   "metadata": {
    "collapsed": false,
    "ExecuteTime": {
     "end_time": "2023-07-27T19:09:36.083558Z",
     "start_time": "2023-07-27T19:09:36.038585Z"
    }
   }
  },
  {
   "cell_type": "code",
   "execution_count": 70,
   "outputs": [
    {
     "name": "stdout",
     "output_type": "stream",
     "text": [
      "            length     diameter       height  whole_weight  shucked_weight  \\\n",
      "count  3320.000000  3320.000000  3320.000000   3320.000000     3320.000000   \n",
      "mean      0.604990     0.590883     0.123249      0.291388        0.239882   \n",
      "std       0.163735     0.168269     0.037795      0.173962        0.149444   \n",
      "min       0.000000     0.000000     0.000000      0.000000        0.000000   \n",
      "25%       0.506757     0.487395     0.101770      0.153843        0.121385   \n",
      "50%       0.628378     0.621849     0.123894      0.280946        0.224950   \n",
      "75%       0.729730     0.714286     0.146018      0.406588        0.338601   \n",
      "max       1.000000     1.000000     1.000000      1.000000        1.000000   \n",
      "\n",
      "       viscera_weight  shell_weight          age  \n",
      "count     3320.000000   3320.000000  3320.000000  \n",
      "mean         0.236553      0.235596     0.342192  \n",
      "std          0.145071      0.139772     0.123294  \n",
      "min          0.000000      0.000000     0.000000  \n",
      "25%          0.120474      0.125436     0.269231  \n",
      "50%          0.224161      0.227703     0.307692  \n",
      "75%          0.332620      0.322372     0.384615  \n",
      "max          1.000000      1.000000     1.000000  \n"
     ]
    }
   ],
   "source": [
    "# Standard scaler - min-max\n",
    "# min=0, max=1\n",
    "\n",
    "min_max_scaler = preprocessing.MinMaxScaler().fit_transform(X=dfAbalone)                 # standardize to a range\n",
    "dfAbaloneStandardizedMinMax = pd.DataFrame(min_max_scaler, columns= dfAbalone.columns)   # (min=0, max=1)\n",
    "\n",
    "print(dfAbaloneStandardizedMinMax.describe())"
   ],
   "metadata": {
    "collapsed": false,
    "ExecuteTime": {
     "end_time": "2023-07-27T19:10:02.515349Z",
     "start_time": "2023-07-27T19:10:02.472421Z"
    }
   }
  },
  {
   "cell_type": "code",
   "execution_count": 71,
   "outputs": [
    {
     "data": {
      "text/plain": "<Axes: xlabel='age', ylabel='Count'>"
     },
     "execution_count": 71,
     "metadata": {},
     "output_type": "execute_result"
    },
    {
     "data": {
      "text/plain": "<Figure size 600x600 with 2 Axes>",
      "image/png": "[encoded data removed]"
     },
     "metadata": {},
     "output_type": "display_data"
    }
   ],
   "source": [
    "#\n",
    "fig, ax = plt.subplots(nrows=1, ncols=2, figsize=(6,6))\n",
    "\n",
    "sns.histplot(data= dfAbaloneStandardized.age, ax= ax[0])\n",
    "sns.histplot(data= dfAbaloneStandardizedMinMax.age, ax= ax[1])"
   ],
   "metadata": {
    "collapsed": false,
    "ExecuteTime": {
     "end_time": "2023-07-27T19:10:15.437276Z",
     "start_time": "2023-07-27T19:10:14.180761Z"
    }
   }
  },
  {
   "cell_type": "markdown",
   "source": [
    "## normalization"
   ],
   "metadata": {
    "collapsed": false
   }
  },
  {
   "cell_type": "code",
   "execution_count": 26,
   "outputs": [
    {
     "name": "stdout",
     "output_type": "stream",
     "text": [
      "            length     diameter       height  whole_weight  shucked_weight  \\\n",
      "count  3320.000000  3320.000000  3320.000000   3320.000000     3320.000000   \n",
      "mean      0.043202     0.033417     0.011356      0.061559        0.026983   \n",
      "std       0.007761     0.005856     0.002627      0.028196        0.013696   \n",
      "min       0.017635     0.014891     0.000000      0.001747        0.000873   \n",
      "25%       0.038537     0.029771     0.010061      0.040354        0.016277   \n",
      "50%       0.044165     0.034198     0.011444      0.060589        0.025752   \n",
      "75%       0.048428     0.037554     0.012658      0.081745        0.036961   \n",
      "max       0.070623     0.052967     0.101660      0.154037        0.083340   \n",
      "\n",
      "       viscera_weight  shell_weight          age  \n",
      "count     3320.000000   3320.000000  3320.000000  \n",
      "mean         0.013469      0.017670     0.792345  \n",
      "std          0.006509      0.007567     0.061367  \n",
      "min          0.000109      0.000817     0.594864  \n",
      "25%          0.008623      0.012170     0.746491  \n",
      "50%          0.012999      0.017665     0.792922  \n",
      "75%          0.018049      0.023118     0.839230  \n",
      "max          0.039747      0.049259     0.938086  \n"
     ]
    }
   ],
   "source": [
    "#  normalization\n",
    "\n",
    "normalizer = preprocessing.normalize(X=dfAbalone, norm=\"l1\")\n",
    "\n",
    "dfAbaloneNormalized = pd.DataFrame(normalizer,\n",
    "                                   columns=dfAbalone.columns)\n",
    "\n",
    "print(dfAbaloneNormalized.describe())"
   ],
   "metadata": {
    "collapsed": false,
    "ExecuteTime": {
     "end_time": "2023-07-27T14:04:39.564675Z",
     "start_time": "2023-07-27T14:04:39.522365Z"
    }
   }
  },
  {
   "cell_type": "code",
   "execution_count": 41,
   "outputs": [
    {
     "data": {
      "text/plain": "<Axes: xlabel='age', ylabel='Count'>"
     },
     "execution_count": 41,
     "metadata": {},
     "output_type": "execute_result"
    },
    {
     "data": {
      "text/plain": "<Figure size 600x600 with 2 Axes>",
      "image/png": "[encoded data removed]"
     },
     "metadata": {},
     "output_type": "display_data"
    }
   ],
   "source": [
    "#\n",
    "\n",
    "fig, ax = plt.subplots(nrows=1, ncols=2, figsize=(6,6))\n",
    "\n",
    "sns.histplot(data=dfAbalone.age, ax = ax[0], bins=26)\n",
    "sns.histplot(data=dfAbaloneNormalized.age, ax = ax[1], bins=26)"
   ],
   "metadata": {
    "collapsed": false,
    "ExecuteTime": {
     "end_time": "2023-07-27T18:40:21.434197Z",
     "start_time": "2023-07-27T18:40:20.526123Z"
    }
   }
  },
  {
   "cell_type": "code",
   "execution_count": 43,
   "outputs": [],
   "source": [
    "# save to files\n",
    "\n",
    "dfAbaloneStandardizedMinMax.to_parquet(abaloneStandardizedMinMaxFile)\n",
    "dfAbaloneStandardized.to_parquet(abaloneStandardizedFile)\n",
    "dfAbaloneNormalized.to_parquet(abaloneNormalizedFile)"
   ],
   "metadata": {
    "collapsed": false,
    "ExecuteTime": {
     "end_time": "2023-07-27T18:42:06.679231Z",
     "start_time": "2023-07-27T18:42:06.649919Z"
    }
   }
  },
  {
   "cell_type": "code",
   "execution_count": null,
   "outputs": [],
   "source": [],
   "metadata": {
    "collapsed": false
   }
  }
 ],
 "metadata": {
  "kernelspec": {
   "display_name": "Python 3",
   "language": "python",
   "name": "python3"
  },
  "language_info": {
   "codemirror_mode": {
    "name": "ipython",
    "version": 2
   },
   "file_extension": ".py",
   "mimetype": "text/x-python",
   "name": "python",
   "nbconvert_exporter": "python",
   "pygments_lexer": "ipython2",
   "version": "2.7.6"
  }
 },
 "nbformat": 4,
 "nbformat_minor": 0
}
