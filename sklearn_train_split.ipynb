{
 "cells": [
  {
   "cell_type": "markdown",
   "source": [
    "# sklearn - train-test split\n",
    "\n",
    "- train/test split\n",
    "- cross-validation\n",
    "-"
   ],
   "metadata": {
    "collapsed": false
   }
  },
  {
   "cell_type": "code",
   "execution_count": 31,
   "metadata": {
    "collapsed": true,
    "ExecuteTime": {
     "end_time": "2023-07-17T15:54:31.439571Z",
     "start_time": "2023-07-17T15:54:31.418796Z"
    }
   },
   "outputs": [],
   "source": [
    "import sklearn as sk\n",
    "import pandas as pd\n",
    "from sklearn.datasets import load_iris\n",
    "from sklearn.model_selection import train_test_split"
   ]
  },
  {
   "cell_type": "markdown",
   "source": [
    "## data"
   ],
   "metadata": {
    "collapsed": false
   }
  },
  {
   "cell_type": "code",
   "execution_count": 32,
   "outputs": [
    {
     "name": "stdout",
     "output_type": "stream",
     "text": [
      "X.shape (150, 4) \n",
      "y.shape (150,)\n",
      "X\n",
      " [[5.1 3.5 1.4 0.2]\n",
      " [4.9 3.  1.4 0.2]\n",
      " [4.7 3.2 1.3 0.2]\n",
      " [4.6 3.1 1.5 0.2]\n",
      " [5.  3.6 1.4 0.2]]\n",
      "y\n",
      " [0 0 0 0 0 0 0 0 0 0]\n"
     ]
    }
   ],
   "source": [
    "# load data as sklearn bunch format\n",
    "# X = data\n",
    "# y = target\n",
    "\n",
    "X, y = load_iris(return_X_y=True)\n",
    "\n",
    "print(\"X.shape\", X.shape,\n",
    "      \"\\ny.shape\", y.shape)\n",
    "\n",
    "print(\"X\\n\", X[:5, :])\n",
    "print(\"y\\n\", y[:10])"
   ],
   "metadata": {
    "collapsed": false,
    "ExecuteTime": {
     "end_time": "2023-07-17T15:54:34.209660Z",
     "start_time": "2023-07-17T15:54:34.189021Z"
    }
   }
  },
  {
   "cell_type": "markdown",
   "source": [
    "#### problem definition"
   ],
   "metadata": {
    "collapsed": false
   }
  },
  {
   "cell_type": "markdown",
   "source": [
    "#### EDA - exploratory data analysis"
   ],
   "metadata": {
    "collapsed": false
   }
  },
  {
   "cell_type": "code",
   "execution_count": 58,
   "outputs": [
    {
     "name": "stdout",
     "output_type": "stream",
     "text": [
      "   sepal length (cm)  sepal width (cm)  petal length (cm)  petal width (cm)  \\\n",
      "0                5.1               3.5                1.4               0.2   \n",
      "1                4.9               3.0                1.4               0.2   \n",
      "2                4.7               3.2                1.3               0.2   \n",
      "\n",
      "   type  \n",
      "0     0  \n",
      "1     0  \n",
      "2     0  \n"
     ]
    }
   ],
   "source": [
    "# load data as pandas dataframe for EDA\n",
    "# X = data\n",
    "# y = target\n",
    "\n",
    "X, y= load_iris(return_X_y=True, as_frame=True)\n",
    "\n",
    "# combine as dataframe\n",
    "dfIris = pd.DataFrame(data= X)\n",
    "dfIris[\"type\"] = y\n",
    "\n",
    "\n",
    "print(dfIris.head(3))"
   ],
   "metadata": {
    "collapsed": false,
    "ExecuteTime": {
     "end_time": "2023-07-17T16:02:53.049904Z",
     "start_time": "2023-07-17T16:02:53.024790Z"
    }
   }
  },
  {
   "cell_type": "markdown",
   "source": [
    "## split"
   ],
   "metadata": {
    "collapsed": false
   }
  },
  {
   "cell_type": "code",
   "execution_count": 71,
   "outputs": [
    {
     "name": "stdout",
     "output_type": "stream",
     "text": [
      "(120, 4) (30, 4)\n"
     ]
    }
   ],
   "source": [
    "# train test split (%80 train)\n",
    "\n",
    "# X_train, y_train, X_test, y_test = train_test_split(X, y, test_size=0.2, random_state=10, shuffle=True)\n",
    "X_train, y_train, X_test, y_test = train_test_split(dfIris.iloc[:,0:4],  #X\n",
    "                                                    dfIris.iloc[:, -1],  #y\n",
    "                                                    test_size=0.2,\n",
    "                                                    random_state=10,\n",
    "                                                    shuffle=True)\n",
    "\n",
    "\n",
    "print(X_train.shape, y_train.shape)"
   ],
   "metadata": {
    "collapsed": false,
    "ExecuteTime": {
     "end_time": "2023-07-17T16:06:31.851473Z",
     "start_time": "2023-07-17T16:06:31.823379Z"
    }
   }
  },
  {
   "cell_type": "markdown",
   "source": [
    "## model"
   ],
   "metadata": {
    "collapsed": false
   }
  },
  {
   "cell_type": "markdown",
   "source": [
    "#### performance"
   ],
   "metadata": {
    "collapsed": false
   }
  },
  {
   "cell_type": "markdown",
   "source": [
    "## predict"
   ],
   "metadata": {
    "collapsed": false
   }
  },
  {
   "cell_type": "code",
   "execution_count": null,
   "outputs": [],
   "source": [],
   "metadata": {
    "collapsed": false
   }
  }
 ],
 "metadata": {
  "kernelspec": {
   "display_name": "Python 3",
   "language": "python",
   "name": "python3"
  },
  "language_info": {
   "codemirror_mode": {
    "name": "ipython",
    "version": 2
   },
   "file_extension": ".py",
   "mimetype": "text/x-python",
   "name": "python",
   "nbconvert_exporter": "python",
   "pygments_lexer": "ipython2",
   "version": "2.7.6"
  }
 },
 "nbformat": 4,
 "nbformat_minor": 0
}
