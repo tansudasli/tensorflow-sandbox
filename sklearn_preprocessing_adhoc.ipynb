{
 "cells": [
  {
   "cell_type": "markdown",
   "source": [
    "# sklearn - preprocessing general concepts\n",
    "\n",
    "- scaler (standard or minmax) only scales (mostly moves) the dataset. Does not change the distribution!\n",
    "- normalization (L1 or L2 - default)"
   ],
   "metadata": {
    "collapsed": false
   },
   "id": "a51ff0a7bba121c0"
  },
  {
   "cell_type": "code",
   "execution_count": 1,
   "id": "initial_id",
   "metadata": {
    "collapsed": true,
    "ExecuteTime": {
     "end_time": "2023-09-12T12:32:16.108601Z",
     "start_time": "2023-09-12T12:32:14.318121Z"
    }
   },
   "outputs": [],
   "source": [
    "from sklearn import preprocessing\n",
    "import numpy as np"
   ]
  },
  {
   "cell_type": "code",
   "execution_count": 24,
   "outputs": [
    {
     "data": {
      "text/plain": "(2, (4, 3), 12)"
     },
     "execution_count": 24,
     "metadata": {},
     "output_type": "execute_result"
    }
   ],
   "source": [
    "# dummy dataset\n",
    "\n",
    "data = np.array(\n",
    "    [\n",
    "        [2.1, -1.9, 5.5],     #axis=1\n",
    "        [-1.5, 2.4, 3.5],\n",
    "        [0.5, -7.9, 5.6],\n",
    "        [5.9, 2.3, -5.8]\n",
    "    ])\n",
    "       #axis=0\n",
    "\n",
    "data.ndim, data.shape, data.size"
   ],
   "metadata": {
    "collapsed": false,
    "ExecuteTime": {
     "end_time": "2023-09-13T07:36:28.529329Z",
     "start_time": "2023-09-13T07:36:28.512400Z"
    }
   },
   "id": "658db823fdc358e0"
  },
  {
   "cell_type": "code",
   "execution_count": 25,
   "outputs": [
    {
     "data": {
      "text/plain": "(0.8916666666666666,\n array([ 1.75 , -1.275,  2.2  ]),\n array([ 1.9       ,  1.46666667, -0.6       ,  0.8       ]))"
     },
     "execution_count": 25,
     "metadata": {},
     "output_type": "execute_result"
    }
   ],
   "source": [
    "data.mean(), data.mean(axis=0), data.mean(axis=1)"
   ],
   "metadata": {
    "collapsed": false,
    "ExecuteTime": {
     "end_time": "2023-09-13T07:36:31.687623Z",
     "start_time": "2023-09-13T07:36:31.669279Z"
    }
   },
   "id": "d561747f0d56e9de"
  },
  {
   "cell_type": "markdown",
   "source": [
    "## standard scaler\n",
    "μ = 0, σ = 1"
   ],
   "metadata": {
    "collapsed": false
   },
   "id": "6a3a64f432b50e04"
  },
  {
   "cell_type": "code",
   "execution_count": 41,
   "outputs": [
    {
     "data": {
      "text/plain": "(array([1.11022302e-16, 0.00000000e+00, 0.00000000e+00]),\n array([1., 1., 1.]),\n array([[ 0.12894603, -0.14880162,  0.70300338],\n        [-1.19735598,  0.8749535 ,  0.27694073],\n        [-0.46052153, -1.57729713,  0.72430651],\n        [ 1.52893149,  0.85114524, -1.70425062]]))"
     },
     "execution_count": 41,
     "metadata": {},
     "output_type": "execute_result"
    }
   ],
   "source": [
    "# preprocessing.scale vs preprocessing.StandardScaler()\n",
    "# latter is transform API, so it can be used pipelines!\n",
    "# in pipelines, fit and transforms acs a little bit different for train and test data!!\n",
    "#\n",
    "# μ = 0, σ = 1\n",
    "\n",
    "# scaledData = preprocessing.scale(X=data, axis=0)\n",
    "scaler = preprocessing.StandardScaler()\n",
    "scaledData = np.array(scaler.fit_transform(X= data))\n",
    "\n",
    "scaledData.mean(axis=0), scaledData.std(axis=0), scaledData"
   ],
   "metadata": {
    "collapsed": false,
    "ExecuteTime": {
     "end_time": "2023-09-13T13:11:56.198620Z",
     "start_time": "2023-09-13T13:11:56.152900Z"
    }
   },
   "id": "fbd5b414a7e19ce6"
  },
  {
   "cell_type": "markdown",
   "source": [
    "## minmax scaler\n",
    "min=0, max=1"
   ],
   "metadata": {
    "collapsed": false
   },
   "id": "ed8c3d9bdb497301"
  },
  {
   "cell_type": "code",
   "execution_count": 38,
   "outputs": [
    {
     "name": "stdout",
     "output_type": "stream",
     "text": [
      "[[0.48648649 0.58252427 0.99122807]\n",
      " [0.         1.         0.81578947]\n",
      " [0.27027027 0.         1.        ]\n",
      " [1.         0.99029126 0.        ]]\n"
     ]
    }
   ],
   "source": [
    "# min=0, max=1\n",
    "\n",
    "minmax_scaler = preprocessing.MinMaxScaler()\n",
    "minMaxData = np.array(minmax_scaler.fit_transform(X=data))\n",
    "\n",
    "print(minMaxData)"
   ],
   "metadata": {
    "collapsed": false,
    "ExecuteTime": {
     "end_time": "2023-09-13T08:01:42.962781Z",
     "start_time": "2023-09-13T08:01:42.916639Z"
    }
   },
   "id": "8183f53508cb4cb"
  },
  {
   "cell_type": "markdown",
   "source": [
    "## normalization\n",
    "- two types L1 and L2 (default)\n",
    "- works row based, (not axis based)!, so use Transpose if you need!\n"
   ],
   "metadata": {
    "collapsed": false
   },
   "id": "69c50f335f7168f5"
  },
  {
   "cell_type": "code",
   "execution_count": 39,
   "outputs": [
    {
     "name": "stdout",
     "output_type": "stream",
     "text": [
      "[[ 0.33946114 -0.30713151  0.88906489]\n",
      " [-0.33325106  0.53320169  0.7775858 ]\n",
      " [ 0.05156558 -0.81473612  0.57753446]\n",
      " [ 0.68706914  0.26784051 -0.6754239 ]]\n"
     ]
    }
   ],
   "source": [
    "# L1 or L2\n",
    "# L1 :  least absolute deviations, sum of absolute rows = 1\n",
    "# L2 :  least squares (root), sum of squares rows = 1\n",
    "\n",
    "normalizer = preprocessing.Normalizer(norm=\"l2\")\n",
    "normalizedL2Data = np.array(normalizer.fit_transform(X= data))\n",
    "\n",
    "# 5.5 / sqrt[(2.1² + 1.9² + 5.5²)] = 0.88906489\n",
    "\n",
    "print(normalizedL2Data)"
   ],
   "metadata": {
    "collapsed": false,
    "ExecuteTime": {
     "end_time": "2023-09-13T08:08:04.402349Z",
     "start_time": "2023-09-13T08:08:04.358717Z"
    }
   },
   "id": "e0121b8189f487d4"
  },
  {
   "cell_type": "code",
   "execution_count": 40,
   "outputs": [
    {
     "name": "stdout",
     "output_type": "stream",
     "text": [
      "[[ 0.22105263 -0.2         0.57894737]\n",
      " [-0.2027027   0.32432432  0.47297297]\n",
      " [ 0.03571429 -0.56428571  0.4       ]\n",
      " [ 0.42142857  0.16428571 -0.41428571]]\n"
     ]
    }
   ],
   "source": [
    "# L1\n",
    "normalizer = preprocessing.Normalizer(norm=\"l1\")\n",
    "normalizedL1Data = np.array(normalizer.fit_transform(X= data))\n",
    "\n",
    "# 5.5 / (2.1 + 1.9 + 5.5) = 0.57894737\n",
    "\n",
    "print(normalizedL1Data)"
   ],
   "metadata": {
    "collapsed": false,
    "ExecuteTime": {
     "end_time": "2023-09-13T08:24:16.394661Z",
     "start_time": "2023-09-13T08:24:16.356177Z"
    }
   },
   "id": "83b22cedf1f4214b"
  },
  {
   "cell_type": "code",
   "execution_count": null,
   "outputs": [],
   "source": [],
   "metadata": {
    "collapsed": false
   },
   "id": "98f3a1c7584e6913"
  }
 ],
 "metadata": {
  "kernelspec": {
   "display_name": "Python 3",
   "language": "python",
   "name": "python3"
  },
  "language_info": {
   "codemirror_mode": {
    "name": "ipython",
    "version": 2
   },
   "file_extension": ".py",
   "mimetype": "text/x-python",
   "name": "python",
   "nbconvert_exporter": "python",
   "pygments_lexer": "ipython2",
   "version": "2.7.6"
  }
 },
 "nbformat": 4,
 "nbformat_minor": 5
}
